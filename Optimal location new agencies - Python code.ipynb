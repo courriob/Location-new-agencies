{
 "cells": [
  {
   "cell_type": "markdown",
   "metadata": {},
   "source": [
    "# __LIBRARIES__"
   ]
  },
  {
   "cell_type": "code",
   "execution_count": 1,
   "metadata": {
    "extensions": {
     "jupyter_dashboards": {
      "version": 1,
      "views": {
       "grid_default": {},
       "report_default": {}
      }
     }
    },
    "slideshow": {
     "slide_type": "slide"
    }
   },
   "outputs": [],
   "source": [
    "import pandas as pd\n",
    "import numpy as np\n",
    "import scipy as sp\n",
    "import matplotlib.pyplot as plt\n",
    "import seaborn as sns\n",
    "import requests\n",
    "import os\n",
    "import datetime as dt"
   ]
  },
  {
   "cell_type": "markdown",
   "metadata": {
    "extensions": {
     "jupyter_dashboards": {
      "version": 1,
      "views": {
       "grid_default": {},
       "report_default": {}
      }
     }
    },
    "slideshow": {
     "slide_type": "-"
    }
   },
   "source": [
    "# _CHECK VERSIONS_"
   ]
  },
  {
   "cell_type": "code",
   "execution_count": 7,
   "metadata": {
    "extensions": {
     "jupyter_dashboards": {
      "version": 1,
      "views": {
       "grid_default": {},
       "report_default": {}
      }
     }
    },
    "slideshow": {
     "slide_type": "subslide"
    }
   },
   "outputs": [
    {
     "name": "stdout",
     "output_type": "stream",
     "text": [
      "pandas version 0.25.0\n",
      "matplotlib version 3.1.1\n",
      "seaborn version 0.9.0\n",
      "numpy version 3.1.1\n",
      "sklearn version 0.20.3\n"
     ]
    }
   ],
   "source": [
    "import matplotlib\n",
    "import sklearn\n",
    "\n",
    "print(\"pandas version\", pd.__version__)\n",
    "print(\"matplotlib version\", matplotlib.__version__)\n",
    "print(\"seaborn version\", sns.__version__)\n",
    "print(\"numpy version\", matplotlib.__version__)\n",
    "print(\"sklearn version\", sklearn.__version__)"
   ]
  },
  {
   "cell_type": "code",
   "execution_count": 3,
   "metadata": {
    "extensions": {
     "jupyter_dashboards": {
      "version": 1,
      "views": {
       "grid_default": {},
       "report_default": {}
      }
     }
    },
    "slideshow": {
     "slide_type": "-"
    }
   },
   "outputs": [
    {
     "data": {
      "text/html": [
       "\n",
       "<style>\n",
       ".output_png {\n",
       "    display: table-cell;\n",
       "    text-align: center;\n",
       "    vertical-align: center;\n",
       "}\n",
       "</style>\n"
      ],
      "text/plain": [
       "<IPython.core.display.HTML object>"
      ]
     },
     "execution_count": 3,
     "metadata": {},
     "output_type": "execute_result"
    }
   ],
   "source": [
    "###### directory paramaters \n",
    "pd.set_option('display.max_columns', 200)\n",
    "\n",
    "#### display parameters \n",
    "from IPython.core.display import HTML\n",
    "HTML(\"\"\"\n",
    "<style>\n",
    ".output_png {\n",
    "    display: table-cell;\n",
    "    text-align: center;\n",
    "    vertical-align: center;\n",
    "}\n",
    "</style>\n",
    "\"\"\")"
   ]
  },
  {
   "cell_type": "markdown",
   "metadata": {
    "extensions": {
     "jupyter_dashboards": {
      "version": 1,
      "views": {
       "grid_default": {},
       "report_default": {}
      }
     }
    }
   },
   "source": [
    "# __DATA NEEDED__"
   ]
  },
  {
   "cell_type": "markdown",
   "metadata": {},
   "source": [
    "### __DON'T RUN THE CODE BELOW__\n",
    "### __CHARGE THE .csv AVAILABLE IN THE CURRENT DIRECTORY : df_focus.csv__ "
   ]
  },
  {
   "cell_type": "code",
   "execution_count": 13,
   "metadata": {
    "extensions": {
     "jupyter_dashboards": {
      "version": 1,
      "views": {
       "grid_default": {},
       "report_default": {}
      }
     }
    },
    "slideshow": {
     "slide_type": "slide"
    }
   },
   "outputs": [
    {
     "data": {
      "text/html": [
       "<div>\n",
       "<style scoped>\n",
       "    .dataframe tbody tr th:only-of-type {\n",
       "        vertical-align: middle;\n",
       "    }\n",
       "\n",
       "    .dataframe tbody tr th {\n",
       "        vertical-align: top;\n",
       "    }\n",
       "\n",
       "    .dataframe thead th {\n",
       "        text-align: right;\n",
       "    }\n",
       "</style>\n",
       "<table border=\"1\" class=\"dataframe\">\n",
       "  <thead>\n",
       "    <tr style=\"text-align: right;\">\n",
       "      <th></th>\n",
       "      <th>ID SALE APPOINTMENT</th>\n",
       "      <th>SALE APPOINTMENT DATE</th>\n",
       "      <th>CITY</th>\n",
       "      <th>ZIP CODE</th>\n",
       "      <th>DEPARTMENT</th>\n",
       "      <th>REGION</th>\n",
       "      <th>LATITUDE</th>\n",
       "      <th>LONGITUDE</th>\n",
       "    </tr>\n",
       "  </thead>\n",
       "  <tbody>\n",
       "    <tr>\n",
       "      <th>15401</th>\n",
       "      <td>7027</td>\n",
       "      <td>2018-11-15 19:00:00</td>\n",
       "      <td>ST MANDE</td>\n",
       "      <td>94160</td>\n",
       "      <td>Val-de-Marne</td>\n",
       "      <td>ILE DE FRANCE</td>\n",
       "      <td>48.833333</td>\n",
       "      <td>2.416667</td>\n",
       "    </tr>\n",
       "    <tr>\n",
       "      <th>1601</th>\n",
       "      <td>283</td>\n",
       "      <td>2018-01-13 10:00:00</td>\n",
       "      <td>NEUILLY SUR SEINE</td>\n",
       "      <td>92200</td>\n",
       "      <td>Hauts-de-Seine</td>\n",
       "      <td>ILE DE FRANCE</td>\n",
       "      <td>48.883333</td>\n",
       "      <td>2.266667</td>\n",
       "    </tr>\n",
       "    <tr>\n",
       "      <th>17791</th>\n",
       "      <td>8092</td>\n",
       "      <td>2018-12-28 14:15:00</td>\n",
       "      <td>STAINS</td>\n",
       "      <td>93240</td>\n",
       "      <td>Seine-Saint-Denis</td>\n",
       "      <td>ILE DE FRANCE</td>\n",
       "      <td>48.950000</td>\n",
       "      <td>2.383333</td>\n",
       "    </tr>\n",
       "    <tr>\n",
       "      <th>9274</th>\n",
       "      <td>4467</td>\n",
       "      <td>2018-07-13 16:00:00</td>\n",
       "      <td>COUBRON</td>\n",
       "      <td>93470</td>\n",
       "      <td>Seine-Saint-Denis</td>\n",
       "      <td>ILE DE FRANCE</td>\n",
       "      <td>48.916667</td>\n",
       "      <td>2.583333</td>\n",
       "    </tr>\n",
       "    <tr>\n",
       "      <th>4877</th>\n",
       "      <td>2433</td>\n",
       "      <td>2018-04-19 13:00:00</td>\n",
       "      <td>LEVALLOIS PERRET</td>\n",
       "      <td>92300</td>\n",
       "      <td>Hauts-de-Seine</td>\n",
       "      <td>ILE DE FRANCE</td>\n",
       "      <td>48.900000</td>\n",
       "      <td>2.283333</td>\n",
       "    </tr>\n",
       "    <tr>\n",
       "      <th>17665</th>\n",
       "      <td>8036</td>\n",
       "      <td>2018-12-27 10:00:00</td>\n",
       "      <td>CHAMPIGNY SUR MARNE</td>\n",
       "      <td>94500</td>\n",
       "      <td>Val-de-Marne</td>\n",
       "      <td>ILE DE FRANCE</td>\n",
       "      <td>48.816667</td>\n",
       "      <td>2.516667</td>\n",
       "    </tr>\n",
       "    <tr>\n",
       "      <th>2266</th>\n",
       "      <td>895</td>\n",
       "      <td>2018-02-08 11:00:00</td>\n",
       "      <td>RUEIL MALMAISON</td>\n",
       "      <td>92500</td>\n",
       "      <td>Hauts-de-Seine</td>\n",
       "      <td>ILE DE FRANCE</td>\n",
       "      <td>48.883333</td>\n",
       "      <td>2.200000</td>\n",
       "    </tr>\n",
       "    <tr>\n",
       "      <th>3794</th>\n",
       "      <td>1510</td>\n",
       "      <td>2018-03-09 18:30:00</td>\n",
       "      <td>AULNAY SOUS BOIS</td>\n",
       "      <td>93600</td>\n",
       "      <td>Seine-Saint-Denis</td>\n",
       "      <td>ILE DE FRANCE</td>\n",
       "      <td>48.950000</td>\n",
       "      <td>2.516667</td>\n",
       "    </tr>\n",
       "    <tr>\n",
       "      <th>6310</th>\n",
       "      <td>2745</td>\n",
       "      <td>2018-05-05 09:30:00</td>\n",
       "      <td>CLAMART</td>\n",
       "      <td>92140</td>\n",
       "      <td>Hauts-de-Seine</td>\n",
       "      <td>ILE DE FRANCE</td>\n",
       "      <td>48.800000</td>\n",
       "      <td>2.266667</td>\n",
       "    </tr>\n",
       "    <tr>\n",
       "      <th>11571</th>\n",
       "      <td>5204</td>\n",
       "      <td>2018-08-17 10:00:00</td>\n",
       "      <td>ISSY LES MOULINEAUX</td>\n",
       "      <td>92130</td>\n",
       "      <td>Hauts-de-Seine</td>\n",
       "      <td>ILE DE FRANCE</td>\n",
       "      <td>48.816667</td>\n",
       "      <td>2.266667</td>\n",
       "    </tr>\n",
       "  </tbody>\n",
       "</table>\n",
       "</div>"
      ],
      "text/plain": [
       "       ID SALE APPOINTMENT SALE APPOINTMENT DATE                 CITY  \\\n",
       "15401                 7027   2018-11-15 19:00:00             ST MANDE   \n",
       "1601                   283   2018-01-13 10:00:00    NEUILLY SUR SEINE   \n",
       "17791                 8092   2018-12-28 14:15:00               STAINS   \n",
       "9274                  4467   2018-07-13 16:00:00              COUBRON   \n",
       "4877                  2433   2018-04-19 13:00:00     LEVALLOIS PERRET   \n",
       "17665                 8036   2018-12-27 10:00:00  CHAMPIGNY SUR MARNE   \n",
       "2266                   895   2018-02-08 11:00:00      RUEIL MALMAISON   \n",
       "3794                  1510   2018-03-09 18:30:00     AULNAY SOUS BOIS   \n",
       "6310                  2745   2018-05-05 09:30:00              CLAMART   \n",
       "11571                 5204   2018-08-17 10:00:00  ISSY LES MOULINEAUX   \n",
       "\n",
       "       ZIP CODE         DEPARTMENT         REGION   LATITUDE  LONGITUDE  \n",
       "15401     94160       Val-de-Marne  ILE DE FRANCE  48.833333   2.416667  \n",
       "1601      92200     Hauts-de-Seine  ILE DE FRANCE  48.883333   2.266667  \n",
       "17791     93240  Seine-Saint-Denis  ILE DE FRANCE  48.950000   2.383333  \n",
       "9274      93470  Seine-Saint-Denis  ILE DE FRANCE  48.916667   2.583333  \n",
       "4877      92300     Hauts-de-Seine  ILE DE FRANCE  48.900000   2.283333  \n",
       "17665     94500       Val-de-Marne  ILE DE FRANCE  48.816667   2.516667  \n",
       "2266      92500     Hauts-de-Seine  ILE DE FRANCE  48.883333   2.200000  \n",
       "3794      93600  Seine-Saint-Denis  ILE DE FRANCE  48.950000   2.516667  \n",
       "6310      92140     Hauts-de-Seine  ILE DE FRANCE  48.800000   2.266667  \n",
       "11571     92130     Hauts-de-Seine  ILE DE FRANCE  48.816667   2.266667  "
      ]
     },
     "execution_count": 13,
     "metadata": {},
     "output_type": "execute_result"
    }
   ],
   "source": [
    "######################################## DON'T RUN ###############################################\n",
    "# df_global : initial dataframe with all features\n",
    "\n",
    "# df_focus : only features needed\n",
    "features_focus=[\"ID SALE APPOINTMENT\", \"SALE APPOINTMENT DATE\", \"CITY\", \"ZIP CODE\", \"DEPARTMENT\", \"REGION\", \"LATITUDE\",\n",
    "                \"LONGITUDE\"]\n",
    "df_focus=df_global[features_focus].copy()\n",
    "\n",
    "\n",
    "# perimeter of Paris and its neighbours : zip codes that start by 75, 92, 94, 93\n",
    "zone_paris=[\"75\", \"92\",\"93\", \"94\"]\n",
    "loc_zone_paris=df_focus[\"ZIP CODE\"].apply(lambda x:str(x)[0:2]).isin(zone_paris)\n",
    "df_focus=df_focus.loc[loc_zone_paris]\n",
    "\n",
    "df_focus.head(10)"
   ]
  },
  {
   "cell_type": "markdown",
   "metadata": {},
   "source": [
    "### __CHARGE THIS FILE__"
   ]
  },
  {
   "cell_type": "code",
   "execution_count": null,
   "metadata": {},
   "outputs": [],
   "source": [
    "#df_focus=pd.read_csv(\"df_focus.csv\", sep=\";\")"
   ]
  },
  {
   "cell_type": "code",
   "execution_count": 16,
   "metadata": {},
   "outputs": [
    {
     "name": "stdout",
     "output_type": "stream",
     "text": [
      "<class 'pandas.core.frame.DataFrame'>\n",
      "Int64Index: 8120 entries, 1086 to 4671\n",
      "Data columns (total 8 columns):\n",
      "ID SALE APPOINTMENT      8120 non-null int32\n",
      "SALE APPOINTMENT DATE    8120 non-null datetime64[ns]\n",
      "CITY                     8120 non-null object\n",
      "ZIP CODE                 8120 non-null int64\n",
      "DEPARTMENT               8120 non-null object\n",
      "REGION                   8120 non-null object\n",
      "LATITUDE                 8120 non-null float64\n",
      "LONGITUDE                8120 non-null float64\n",
      "dtypes: datetime64[ns](1), float64(2), int32(1), int64(1), object(3)\n",
      "memory usage: 539.2+ KB\n"
     ]
    }
   ],
   "source": [
    "df_focus.info()"
   ]
  },
  {
   "cell_type": "markdown",
   "metadata": {},
   "source": [
    "# __SCATTER PLOT__"
   ]
  },
  {
   "cell_type": "code",
   "execution_count": 14,
   "metadata": {
    "extensions": {
     "jupyter_dashboards": {
      "version": 1,
      "views": {
       "grid_default": {},
       "report_default": {}
      }
     }
    },
    "slideshow": {
     "slide_type": "slide"
    }
   },
   "outputs": [
    {
     "data": {
      "image/png": "[encoded data removed]",
      "text/plain": [
       "<Figure size 576x432 with 1 Axes>"
      ]
     },
     "metadata": {
      "needs_background": "light"
     },
     "output_type": "display_data"
    }
   ],
   "source": [
    "plt.figure(figsize=(8,6))\n",
    "\n",
    "plt.scatter(df_focus[\"LONGITUDE\"],df_focus[\"LATITUDE\"])\n",
    "\n",
    "plt.title(\"Sales appointments \\n Paris & Borders\", fontweight='bold', fontsize=12)\n",
    "plt.xlabel(\"LONGITUDE\")\n",
    "plt.ylabel(\"LATITUDE\")\n",
    "\n",
    "plt.show()"
   ]
  },
  {
   "cell_type": "markdown",
   "metadata": {
    "extensions": {
     "jupyter_dashboards": {
      "version": 1,
      "views": {
       "grid_default": {},
       "report_default": {}
      }
     }
    }
   },
   "source": [
    "# __NUMBER K OF CLUSTERS__ "
   ]
  },
  {
   "cell_type": "code",
   "execution_count": 265,
   "metadata": {
    "extensions": {
     "jupyter_dashboards": {
      "version": 1,
      "views": {
       "grid_default": {},
       "report_default": {}
      }
     }
    },
    "slideshow": {
     "slide_type": "slide"
    }
   },
   "outputs": [
    {
     "data": {
      "image/png": "[encoded data removed]",
      "text/plain": [
       "<Figure size 504x360 with 1 Axes>"
      ]
     },
     "metadata": {
      "needs_background": "light"
     },
     "output_type": "display_data"
    }
   ],
   "source": [
    "df_kmeans=df_focus[[\"LONGITUDE\",\"LATITUDE\"]].copy()\n",
    "\n",
    "#simulated KMEANS for different K \n",
    "from sklearn.cluster import KMeans\n",
    "km_inertia = []\n",
    "K = range(1,15)\n",
    "for i in K:\n",
    "    km = KMeans(n_clusters=i)\n",
    "    km = km.fit(df_kmeans)\n",
    "    km_inertia.append(km.inertia_)\n",
    "    \n",
    "#Delta inertia__K+1  vs K \n",
    "Inertia_diff_lag=abs(pd.Series(km_inertia).diff())\n",
    "Inertia_diff_lag.index=Inertia_diff_lag.index+1\n",
    "Inertia_diff_lag=Inertia_diff_lag[Inertia_diff_lag.notnull()]\n",
    "\n",
    "#plot\n",
    "plt.figure(figsize=(7,5))\n",
    "axes = plt.gca()\n",
    "plt.bar(Inertia_diff_lag.index,Inertia_diff_lag)\n",
    "plt.xticks(Inertia_diff_lag.index)\n",
    "plt.title(\"Inertia loss K+1 vs K clusters \\n (absolute value)\", fontsize=15)\n",
    "plt.xlabel(\"Number of clusters\", fontsize=12)\n",
    "plt.show()"
   ]
  },
  {
   "cell_type": "markdown",
   "metadata": {},
   "source": [
    "#  __PLOT CLUSTERS AFTER K-MEANS__"
   ]
  },
  {
   "cell_type": "code",
   "execution_count": 26,
   "metadata": {
    "extensions": {
     "jupyter_dashboards": {
      "version": 1,
      "views": {
       "grid_default": {},
       "report_default": {}
      }
     }
    },
    "slideshow": {
     "slide_type": "slide"
    }
   },
   "outputs": [
    {
     "data": {
      "image/png": "[encoded data removed]",
      "text/plain": [
       "<Figure size 576x432 with 1 Axes>"
      ]
     },
     "metadata": {
      "needs_background": "light"
     },
     "output_type": "display_data"
    }
   ],
   "source": [
    "k=5\n",
    "\n",
    "kmeans = KMeans(n_clusters=k)\n",
    "kmeans.fit(df_kmeans)\n",
    "centers = kmeans.cluster_centers_\n",
    "df_focus[\"Cluster\"]=kmeans.predict(df_focus[[\"LONGITUDE\",\"LATITUDE\"]])\n",
    "                                            \n",
    "#Rename K : K=1,2,.. instead of 0,1,..\n",
    "df_focus[\"Cluster\"]=df_focus[\"Cluster\"]+1\n",
    "                                            \n",
    "#plot\n",
    "plt.figure(figsize=(8,6))\n",
    "                                            \n",
    "plt.scatter(df_focus[\"LONGITUDE\"], df_focus[\"LATITUDE\"], c=df_focus[\"Cluster\"], s=50, cmap='tab10')\n",
    "plt.scatter(centers[:, 0],centers[:, 1], c='red', s=200, alpha=0.5)\n",
    "                                            \n",
    "plt.title(\"Paris \\n Clustering\", fontsize=15, fontweight='bold')\n",
    "plt.xlabel(\"LONGITUDE\")\n",
    "plt.ylabel(\"LATITUDE\")\n",
    "plt.show()"
   ]
  },
  {
   "cell_type": "code",
   "execution_count": 27,
   "metadata": {},
   "outputs": [
    {
     "name": "stdout",
     "output_type": "stream",
     "text": [
      "<class 'pandas.core.frame.DataFrame'>\n",
      "RangeIndex: 8120 entries, 0 to 8119\n",
      "Data columns (total 9 columns):\n",
      "ID SALE APPOINTMENT      8120 non-null int64\n",
      "SALE APPOINTMENT DATE    8120 non-null object\n",
      "CITY                     8120 non-null object\n",
      "ZIP CODE                 8120 non-null int64\n",
      "DEPARTMENT               8120 non-null object\n",
      "REGION                   8120 non-null object\n",
      "LATITUDE                 8120 non-null float64\n",
      "LONGITUDE                8120 non-null float64\n",
      "Cluster                  8120 non-null int32\n",
      "dtypes: float64(2), int32(1), int64(2), object(4)\n",
      "memory usage: 539.3+ KB\n"
     ]
    }
   ],
   "source": [
    "df_focus.info()"
   ]
  },
  {
   "cell_type": "markdown",
   "metadata": {},
   "source": [
    "# __GRAPH CLEARER ABOUT DENSITY ZONES__"
   ]
  },
  {
   "cell_type": "code",
   "execution_count": 29,
   "metadata": {
    "extensions": {
     "jupyter_dashboards": {
      "version": 1,
      "views": {
       "grid_default": {},
       "report_default": {}
      }
     }
    },
    "slideshow": {
     "slide_type": "subslide"
    }
   },
   "outputs": [
    {
     "data": {
      "image/png": "[encoded data removed]",
      "text/plain": [
       "<Figure size 720x576 with 1 Axes>"
      ]
     },
     "metadata": {
      "needs_background": "light"
     },
     "output_type": "display_data"
    }
   ],
   "source": [
    "# Zipcode is not a key : in France, several cities can have the same zip code\n",
    "#Weight by city\n",
    "NB_APPT=df_focus.groupby([\"LATITUDE\",\"LONGITUDE\",\"Cluster\"]).agg(NB_APPT=pd.NamedAgg(column='ID SALE APPOINTMENT', aggfunc='nunique')).reset_index()\n",
    "# pd.NamedAgg only works for pandas 0.25\n",
    "\n",
    "#plot \n",
    "fig, ax = plt.subplots(figsize=(10,8))\n",
    "x=NB_APPT[\"LONGITUDE\"].copy()\n",
    "y=NB_APPT[\"LATITUDE\"].copy()\n",
    "c=NB_APPT[\"Cluster\"].copy()\n",
    "d=NB_APPT[\"NB_APPT\"].copy()\n",
    "\n",
    "#size of bublles increased s=s*10\n",
    "scatter=ax.scatter(x, y,c=c, cmap=\"tab10\",s=d*10,edgecolors= \"black\")\n",
    "\n",
    "ax.scatter(centers[:, 0],centers[:, 1], c='red', s=200, alpha=0.5, label=\"Cluster centroïd\")\n",
    "\n",
    "legend1 = ax.legend(*scatter.legend_elements(), title=\"Cluster\", loc=\"upper right\",bbox_to_anchor=(1.4, 0.75),markerscale=2, prop={'size':12, \"weight\":'bold'})\n",
    "ax.add_artist(legend1)\n",
    "ax.get_legend().get_title().set_fontsize('12')\n",
    "ax.get_legend().get_title().set_weight('bold')\n",
    "\n",
    "legend2=ax.legend(loc='upper right', bbox_to_anchor=(1.32, 0.45), shadow=True, ncol=1, prop={'size':12, \"weight\":'bold'})\n",
    "ax.add_artist(legend2)\n",
    "\n",
    "#the real size of bubbles in the legend : s=s/10\n",
    "kw = dict(prop=\"sizes\", func=lambda s: s/10, num=[10, 80, 120, 200])\n",
    "legend3 = ax.legend(*scatter.legend_elements(**kw), loc=\"upper right\", title=\"SALES APPT\", bbox_to_anchor=(1.28, 1.01),labelspacing=4, handletextpad=2.2,borderpad=3, prop={'size':8, 'weight':'bold'})\n",
    "ax.add_artist(legend3)\n",
    "ax.get_legend().get_title().set_fontsize('12')\n",
    "ax.get_legend().get_title().set_weight('bold')\n",
    "\n",
    "plt.title (\"Paris \\n Zones of density\",fontweight='bold', fontsize=15)\n",
    "plt.xlabel(\"LONGITUDE\",fontweight='bold',fontsize=15)\n",
    "plt.ylabel(\"LATITUDE\",fontweight='bold',fontsize=15)\n",
    "plt.show()"
   ]
  },
  {
   "cell_type": "markdown",
   "metadata": {},
   "source": [
    "# __API PARAMETERS__"
   ]
  },
  {
   "cell_type": "code",
   "execution_count": 61,
   "metadata": {},
   "outputs": [],
   "source": [
    "#put your active key\n",
    "API_KEY=\"your__api__key__from__google_cloud\"\n",
    "\n",
    "### departure_time = in integer seconds since January 1, 1970\n",
    "departure_time=str((dt.datetime(2019,10,24,8,30,0)-dt.datetime(1970,1,1,23,59,59)).total_seconds())\n",
    "departure_time=str(departure_time).split('.')[0]\n",
    "\n",
    "\n",
    "#Mode=\"driving\" #default value\n",
    "#Units=\"metric\" #default value\n",
    "\n",
    "Traffic_model=\"best_guess\" #default value, could take pessimistic, optimistic\n",
    "\n",
    "#We can estimate time have a look when the traffic is congested\n",
    "#Traffic_model=\"pessimistic\""
   ]
  },
  {
   "cell_type": "markdown",
   "metadata": {},
   "source": [
    "# __DISTANCE & TRAVEL TIME BETWEEN TWO RANDOM POINTS__"
   ]
  },
  {
   "cell_type": "markdown",
   "metadata": {},
   "source": [
    "### __Traffic_model=\"best_guess\"__"
   ]
  },
  {
   "cell_type": "code",
   "execution_count": 64,
   "metadata": {},
   "outputs": [
    {
     "data": {
      "text/plain": [
       "{'destination_addresses': ['13 Rue Galien, 93400 Saint-Ouen, France'],\n",
       " 'origin_addresses': ['47 Rue des Chantiers, 78000 Versailles, France'],\n",
       " 'rows': [{'elements': [{'distance': {'text': '16.1 mi', 'value': 25831},\n",
       "     'duration': {'text': '32 mins', 'value': 1934},\n",
       "     'duration_in_traffic': {'text': '36 mins', 'value': 2159},\n",
       "     'status': 'OK'}]}],\n",
       " 'status': 'OK'}"
      ]
     },
     "execution_count": 64,
     "metadata": {},
     "output_type": "execute_result"
    }
   ],
   "source": [
    "Origins_coordinates= \"48.7944,2.1414800000000014\"\n",
    "Destination_coordinates=\"48.9065,2.3215900000000147\"\n",
    "url=\"https://maps.googleapis.com/maps/api/distancematrix/json?units=imperial\"\n",
    "url_call_api=\"{}{}{}{}{}{}{}{}{}{}{}\".format(url,\"&origins=\",Origins_coordinates,\"&destinations=\",Destination_coordinates,\"&traffic_model=\",Traffic_model,\"&departure_time=\",departure_time,\"&key=\",API_KEY)\n",
    "\n",
    "res=requests.get(url_call_api)\n",
    "\n",
    "data=res.json()\n",
    "data"
   ]
  },
  {
   "cell_type": "markdown",
   "metadata": {},
   "source": [
    "### __Traffic_model=\"pessimistic\"__\n"
   ]
  },
  {
   "cell_type": "code",
   "execution_count": 66,
   "metadata": {},
   "outputs": [
    {
     "data": {
      "text/plain": [
       "{'destination_addresses': ['13 Rue Galien, 93400 Saint-Ouen, France'],\n",
       " 'origin_addresses': ['47 Rue des Chantiers, 78000 Versailles, France'],\n",
       " 'rows': [{'elements': [{'distance': {'text': '16.1 mi', 'value': 25831},\n",
       "     'duration': {'text': '32 mins', 'value': 1934},\n",
       "     'duration_in_traffic': {'text': '53 mins', 'value': 3182},\n",
       "     'status': 'OK'}]}],\n",
       " 'status': 'OK'}"
      ]
     },
     "execution_count": 66,
     "metadata": {},
     "output_type": "execute_result"
    }
   ],
   "source": [
    "Origins_coordinates= \"48.7944,2.1414800000000014\"\n",
    "Destination_coordinates=\"48.9065,2.3215900000000147\"\n",
    "url=\"https://maps.googleapis.com/maps/api/distancematrix/json?units=imperial\"\n",
    "url_call_api=\"{}{}{}{}{}{}{}{}{}{}{}\".format(url,\"&origins=\",Origins_coordinates,\"&destinations=\",Destination_coordinates,\"&traffic_model=\",\"pessimistic\",\"&departure_time=\",departure_time,\"&key=\",API_KEY)\n",
    "\n",
    "res=requests.get(url_call_api)\n",
    "\n",
    "data=res.json()\n",
    "data"
   ]
  },
  {
   "cell_type": "markdown",
   "metadata": {},
   "source": [
    "# __FUNCTION GOOGLE MAPS : CALCULATION TRAVEL TIME & DISTANCE__"
   ]
  },
  {
   "cell_type": "code",
   "execution_count": 88,
   "metadata": {
    "extensions": {
     "jupyter_dashboards": {
      "version": 1,
      "views": {
       "grid_default": {},
       "report_default": {}
      }
     }
    },
    "slideshow": {
     "slide_type": "slide"
    }
   },
   "outputs": [],
   "source": [
    "def api_gmaps_request(longitude_orig,latitude_orig,longitude_dest,latitude_dest,API_KEY,departure_time,Traffic_model):\n",
    "    \n",
    "    longitude_orig=str(longitude_orig)\n",
    "    latitude_orig=str(latitude_orig)\n",
    "    longitude_dest=str(longitude_dest)\n",
    "    latitude_dest=str(latitude_dest)\n",
    "    Origins_gps=latitude_orig+\",\"+longitude_orig\n",
    "    Destination_gps=latitude_dest+\",\"+longitude_dest\n",
    "\n",
    "    Mode=\"driving\"\n",
    "    Units=\"metric\" #Distance in KM instead of miles\n",
    "    url_request=\"https://maps.googleapis.com/maps/api/distancematrix/json?units=imperial\"\n",
    "    url=url_request+\"&origins=\"+Origins_gps+\"&destinations=\"+Destination_gps+\"&traffic_model=\"+Traffic_model+\"&departure_time=\"+departure_time+\"&key=\"+API_KEY\n",
    "    \n",
    "    \n",
    "    res=requests.get(url)\n",
    "    data=res.json()\n",
    "    \n",
    "    if data[\"rows\"][0][\"elements\"][0][\"status\"]==\"OK\":\n",
    "        #data=pd.DataFrame(data['rows'])\n",
    "        distance=round(data[\"rows\"][0][\"elements\"][0][\"distance\"][\"value\"]/1000,2)\n",
    "        travel_time=round(data[\"rows\"][0][\"elements\"][0][\"duration\"][\"value\"]/60,2)\n",
    "        travel_time_in_traffic=round(data[\"rows\"][0][\"elements\"][0][\"duration_in_traffic\"][\"value\"]/60,2)\n",
    "        result=[distance,travel_time,travel_time_in_traffic, data[\"rows\"][0][\"elements\"][0][\"status\"]]\n",
    "        \n",
    "        return(result)\n",
    "    else:\n",
    "        return([0,0,0, data[\"rows\"][0][\"elements\"][0][\"status\"]])\n"
   ]
  },
  {
   "cell_type": "code",
   "execution_count": 69,
   "metadata": {},
   "outputs": [
    {
     "data": {
      "text/html": [
       "<div>\n",
       "<style scoped>\n",
       "    .dataframe tbody tr th:only-of-type {\n",
       "        vertical-align: middle;\n",
       "    }\n",
       "\n",
       "    .dataframe tbody tr th {\n",
       "        vertical-align: top;\n",
       "    }\n",
       "\n",
       "    .dataframe thead th {\n",
       "        text-align: right;\n",
       "    }\n",
       "</style>\n",
       "<table border=\"1\" class=\"dataframe\">\n",
       "  <thead>\n",
       "    <tr style=\"text-align: right;\">\n",
       "      <th></th>\n",
       "      <th>ID SALE APPOINTMENT</th>\n",
       "      <th>SALE APPOINTMENT DATE</th>\n",
       "      <th>CITY</th>\n",
       "      <th>ZIP CODE</th>\n",
       "      <th>DEPARTMENT</th>\n",
       "      <th>REGION</th>\n",
       "      <th>LATITUDE</th>\n",
       "      <th>LONGITUDE</th>\n",
       "      <th>Cluster</th>\n",
       "      <th>longitude_center</th>\n",
       "      <th>latitude_center</th>\n",
       "      <th>Clusters_name</th>\n",
       "    </tr>\n",
       "  </thead>\n",
       "  <tbody>\n",
       "    <tr>\n",
       "      <th>0</th>\n",
       "      <td>7027</td>\n",
       "      <td>2018-11-15 19:00:00</td>\n",
       "      <td>ST MANDE</td>\n",
       "      <td>94160</td>\n",
       "      <td>Val-de-Marne</td>\n",
       "      <td>ILE DE FRANCE</td>\n",
       "      <td>48.833333</td>\n",
       "      <td>2.416667</td>\n",
       "      <td>1</td>\n",
       "      <td>2.374986</td>\n",
       "      <td>48.876805</td>\n",
       "      <td>Cluster 1</td>\n",
       "    </tr>\n",
       "    <tr>\n",
       "      <th>1</th>\n",
       "      <td>8092</td>\n",
       "      <td>2018-12-28 14:15:00</td>\n",
       "      <td>STAINS</td>\n",
       "      <td>93240</td>\n",
       "      <td>Seine-Saint-Denis</td>\n",
       "      <td>ILE DE FRANCE</td>\n",
       "      <td>48.950000</td>\n",
       "      <td>2.383333</td>\n",
       "      <td>1</td>\n",
       "      <td>2.374986</td>\n",
       "      <td>48.876805</td>\n",
       "      <td>Cluster 1</td>\n",
       "    </tr>\n",
       "    <tr>\n",
       "      <th>2</th>\n",
       "      <td>6382</td>\n",
       "      <td>2018-10-20 16:00:00</td>\n",
       "      <td>PARIS</td>\n",
       "      <td>75020</td>\n",
       "      <td>Paris</td>\n",
       "      <td>ILE DE FRANCE</td>\n",
       "      <td>48.857126</td>\n",
       "      <td>2.409257</td>\n",
       "      <td>1</td>\n",
       "      <td>2.374986</td>\n",
       "      <td>48.876805</td>\n",
       "      <td>Cluster 1</td>\n",
       "    </tr>\n",
       "    <tr>\n",
       "      <th>3</th>\n",
       "      <td>827</td>\n",
       "      <td>2018-02-05 18:00:00</td>\n",
       "      <td>STAINS</td>\n",
       "      <td>93240</td>\n",
       "      <td>Seine-Saint-Denis</td>\n",
       "      <td>ILE DE FRANCE</td>\n",
       "      <td>48.950000</td>\n",
       "      <td>2.383333</td>\n",
       "      <td>1</td>\n",
       "      <td>2.374986</td>\n",
       "      <td>48.876805</td>\n",
       "      <td>Cluster 1</td>\n",
       "    </tr>\n",
       "    <tr>\n",
       "      <th>4</th>\n",
       "      <td>4274</td>\n",
       "      <td>2018-07-07 15:00:00</td>\n",
       "      <td>AUBERVILLIERS</td>\n",
       "      <td>93300</td>\n",
       "      <td>Seine-Saint-Denis</td>\n",
       "      <td>ILE DE FRANCE</td>\n",
       "      <td>48.916667</td>\n",
       "      <td>2.383333</td>\n",
       "      <td>1</td>\n",
       "      <td>2.374986</td>\n",
       "      <td>48.876805</td>\n",
       "      <td>Cluster 1</td>\n",
       "    </tr>\n",
       "  </tbody>\n",
       "</table>\n",
       "</div>"
      ],
      "text/plain": [
       "   ID SALE APPOINTMENT SALE APPOINTMENT DATE           CITY  ZIP CODE  \\\n",
       "0                 7027   2018-11-15 19:00:00       ST MANDE     94160   \n",
       "1                 8092   2018-12-28 14:15:00         STAINS     93240   \n",
       "2                 6382   2018-10-20 16:00:00          PARIS     75020   \n",
       "3                  827   2018-02-05 18:00:00         STAINS     93240   \n",
       "4                 4274   2018-07-07 15:00:00  AUBERVILLIERS     93300   \n",
       "\n",
       "          DEPARTMENT         REGION   LATITUDE  LONGITUDE  Cluster  \\\n",
       "0       Val-de-Marne  ILE DE FRANCE  48.833333   2.416667        1   \n",
       "1  Seine-Saint-Denis  ILE DE FRANCE  48.950000   2.383333        1   \n",
       "2              Paris  ILE DE FRANCE  48.857126   2.409257        1   \n",
       "3  Seine-Saint-Denis  ILE DE FRANCE  48.950000   2.383333        1   \n",
       "4  Seine-Saint-Denis  ILE DE FRANCE  48.916667   2.383333        1   \n",
       "\n",
       "   longitude_center  latitude_center Clusters_name  \n",
       "0          2.374986        48.876805     Cluster 1  \n",
       "1          2.374986        48.876805     Cluster 1  \n",
       "2          2.374986        48.876805     Cluster 1  \n",
       "3          2.374986        48.876805     Cluster 1  \n",
       "4          2.374986        48.876805     Cluster 1  "
      ]
     },
     "execution_count": 69,
     "metadata": {},
     "output_type": "execute_result"
    }
   ],
   "source": [
    "Clusters_name=(\"Cluster \"*k).split()\n",
    "for i in np.arange(k) : Clusters_name[i]=Clusters_name[i]+\" \"+str(i+1)\n",
    "centers=np.insert(centers,2,np.arange(k)+1,axis=1)\n",
    "centers_df=pd.DataFrame({\"longitude_center\":centers[:,0],\"latitude_center\":centers[:,1],\"Cluster\":centers[:,2], \"Clusters_name\":Clusters_name})\n",
    "centers_df\n",
    "    \n",
    "df_focus=pd.merge(df_focus, centers_df,on=\"Cluster\")\n",
    "df_focus.head()"
   ]
  },
  {
   "cell_type": "markdown",
   "metadata": {
    "extensions": {
     "jupyter_dashboards": {
      "version": 1,
      "views": {
       "grid_default": {},
       "report_default": {}
      }
     }
    }
   },
   "source": [
    "# __COORDONNEES GPS CENTER VS CLUSTER TO FIND THE TOP 5__"
   ]
  },
  {
   "cell_type": "code",
   "execution_count": 94,
   "metadata": {
    "extensions": {
     "jupyter_dashboards": {
      "version": 1,
      "views": {
       "grid_default": {},
       "report_default": {}
      }
     }
    }
   },
   "outputs": [],
   "source": [
    "#df deduplicated,we just need to compute distance with unique cities\n",
    "#important to deduplicate rows to avoid calling uselessly the API\n",
    "df_focus_drop=df_focus.copy()\n",
    "df_focus_drop=df_focus_drop.drop_duplicates([\"LONGITUDE\",\"LATITUDE\",\"Cluster\"])\n",
    "\n",
    "#initialization \n",
    "df_focus_drop[\"REAL DISTANCE vs CENTROID\"]=0.0\n",
    "\n",
    "#for each city compute distance between city and the center of the cluster to which it belongs\n",
    "for i in np.arange(df_focus_drop.shape[0]):\n",
    "    \n",
    "    longitude_orig=df_focus_drop.iloc[i][\"longitude_center\"]\n",
    "    latitude_orig=df_focus_drop.iloc[i][\"latitude_center\"]\n",
    "    \n",
    "    longitude_dest=df_focus_drop.iloc[i][\"LONGITUDE\"]\n",
    "    latitude_dest=df_focus_drop.iloc[i][\"LATITUDE\"]\n",
    "    \n",
    "    #print(longitude_orig,latitude_orig,longitude_dest,latitude_dest,API_KEY,departure_time)\n",
    "    y=api_gmaps_request(longitude_orig,latitude_orig,longitude_dest,latitude_dest,API_KEY,departure_time,Traffic_model)\n",
    "    \n",
    "    pos_distance=df_focus_drop.columns.get_loc(\"REAL DISTANCE vs CENTROID\")\n",
    "    \n",
    "    df_focus_drop.iloc[i,pos_distance]=y[0]\n",
    "\n",
    "#sort cities by cluster, by distance\n",
    "df_focus_drop=df_focus_drop.sort_values([\"Cluster\",\"REAL DISTANCE vs CENTROID\"], ascending=[True,True])\n",
    "df_focus_drop[\"Increment\"]=df_focus_drop.groupby(\"Cluster\").cumcount()\n",
    "\n",
    "#Top5 of cities closest to each centroïd\n",
    "Top_5=df_focus_drop.loc[df_focus_drop[\"Increment\"]<=4].copy()"
   ]
  },
  {
   "cell_type": "code",
   "execution_count": 274,
   "metadata": {},
   "outputs": [
    {
     "data": {
      "text/html": [
       "<div>\n",
       "<style scoped>\n",
       "    .dataframe tbody tr th:only-of-type {\n",
       "        vertical-align: middle;\n",
       "    }\n",
       "\n",
       "    .dataframe tbody tr th {\n",
       "        vertical-align: top;\n",
       "    }\n",
       "\n",
       "    .dataframe thead th {\n",
       "        text-align: right;\n",
       "    }\n",
       "</style>\n",
       "<table border=\"1\" class=\"dataframe\">\n",
       "  <thead>\n",
       "    <tr style=\"text-align: right;\">\n",
       "      <th></th>\n",
       "      <th>Cluster</th>\n",
       "      <th>CITY</th>\n",
       "      <th>ZIP CODE</th>\n",
       "      <th>REAL DISTANCE vs CENTROID</th>\n",
       "    </tr>\n",
       "  </thead>\n",
       "  <tbody>\n",
       "    <tr>\n",
       "      <th>7</th>\n",
       "      <td>1</td>\n",
       "      <td>PARIS</td>\n",
       "      <td>75019</td>\n",
       "      <td>1.85</td>\n",
       "    </tr>\n",
       "    <tr>\n",
       "      <th>23</th>\n",
       "      <td>1</td>\n",
       "      <td>PARIS</td>\n",
       "      <td>75010</td>\n",
       "      <td>1.99</td>\n",
       "    </tr>\n",
       "    <tr>\n",
       "      <th>9</th>\n",
       "      <td>1</td>\n",
       "      <td>PARIS</td>\n",
       "      <td>75011</td>\n",
       "      <td>3.25</td>\n",
       "    </tr>\n",
       "    <tr>\n",
       "      <th>14</th>\n",
       "      <td>1</td>\n",
       "      <td>PARIS</td>\n",
       "      <td>75003</td>\n",
       "      <td>3.25</td>\n",
       "    </tr>\n",
       "    <tr>\n",
       "      <th>31</th>\n",
       "      <td>1</td>\n",
       "      <td>PARIS</td>\n",
       "      <td>75018</td>\n",
       "      <td>3.31</td>\n",
       "    </tr>\n",
       "    <tr>\n",
       "      <th>2337</th>\n",
       "      <td>4</td>\n",
       "      <td>NEUILLY SUR SEINE</td>\n",
       "      <td>92200</td>\n",
       "      <td>1.05</td>\n",
       "    </tr>\n",
       "    <tr>\n",
       "      <th>2351</th>\n",
       "      <td>4</td>\n",
       "      <td>PUTEAUX</td>\n",
       "      <td>92800</td>\n",
       "      <td>2.91</td>\n",
       "    </tr>\n",
       "    <tr>\n",
       "      <th>2367</th>\n",
       "      <td>4</td>\n",
       "      <td>COURBEVOIE</td>\n",
       "      <td>92400</td>\n",
       "      <td>2.99</td>\n",
       "    </tr>\n",
       "    <tr>\n",
       "      <th>2348</th>\n",
       "      <td>4</td>\n",
       "      <td>PARIS</td>\n",
       "      <td>75016</td>\n",
       "      <td>3.65</td>\n",
       "    </tr>\n",
       "    <tr>\n",
       "      <th>2344</th>\n",
       "      <td>4</td>\n",
       "      <td>PARIS</td>\n",
       "      <td>75017</td>\n",
       "      <td>3.66</td>\n",
       "    </tr>\n",
       "    <tr>\n",
       "      <th>5881</th>\n",
       "      <td>5</td>\n",
       "      <td>CRETEIL</td>\n",
       "      <td>94000</td>\n",
       "      <td>0.90</td>\n",
       "    </tr>\n",
       "    <tr>\n",
       "      <th>5942</th>\n",
       "      <td>5</td>\n",
       "      <td>BONNEUIL SUR MARNE</td>\n",
       "      <td>94380</td>\n",
       "      <td>3.07</td>\n",
       "    </tr>\n",
       "    <tr>\n",
       "      <th>5883</th>\n",
       "      <td>5</td>\n",
       "      <td>ST MAUR DES FOSSES</td>\n",
       "      <td>94100</td>\n",
       "      <td>5.63</td>\n",
       "    </tr>\n",
       "    <tr>\n",
       "      <th>5891</th>\n",
       "      <td>5</td>\n",
       "      <td>MAISONS ALFORT</td>\n",
       "      <td>94700</td>\n",
       "      <td>5.71</td>\n",
       "    </tr>\n",
       "    <tr>\n",
       "      <th>5927</th>\n",
       "      <td>5</td>\n",
       "      <td>VALENTON</td>\n",
       "      <td>94460</td>\n",
       "      <td>5.88</td>\n",
       "    </tr>\n",
       "  </tbody>\n",
       "</table>\n",
       "</div>"
      ],
      "text/plain": [
       "      Cluster                CITY  ZIP CODE  REAL DISTANCE vs CENTROID\n",
       "7           1               PARIS     75019                       1.85\n",
       "23          1               PARIS     75010                       1.99\n",
       "9           1               PARIS     75011                       3.25\n",
       "14          1               PARIS     75003                       3.25\n",
       "31          1               PARIS     75018                       3.31\n",
       "2337        4   NEUILLY SUR SEINE     92200                       1.05\n",
       "2351        4             PUTEAUX     92800                       2.91\n",
       "2367        4          COURBEVOIE     92400                       2.99\n",
       "2348        4               PARIS     75016                       3.65\n",
       "2344        4               PARIS     75017                       3.66\n",
       "5881        5             CRETEIL     94000                       0.90\n",
       "5942        5  BONNEUIL SUR MARNE     94380                       3.07\n",
       "5883        5  ST MAUR DES FOSSES     94100                       5.63\n",
       "5891        5      MAISONS ALFORT     94700                       5.71\n",
       "5927        5            VALENTON     94460                       5.88"
      ]
     },
     "execution_count": 274,
     "metadata": {},
     "output_type": "execute_result"
    }
   ],
   "source": [
    "Top_5.loc[Top_5[\"Cluster\"].isin([1,5,4])][[\"Cluster\",\"CITY\", \"ZIP CODE\", \"REAL DISTANCE vs CENTROID\"]]\n"
   ]
  },
  {
   "cell_type": "markdown",
   "metadata": {},
   "source": [
    "# __CLUSTER DESCRIPTION__"
   ]
  },
  {
   "cell_type": "code",
   "execution_count": 136,
   "metadata": {},
   "outputs": [
    {
     "data": {
      "text/html": [
       "<div>\n",
       "<style scoped>\n",
       "    .dataframe tbody tr th:only-of-type {\n",
       "        vertical-align: middle;\n",
       "    }\n",
       "\n",
       "    .dataframe tbody tr th {\n",
       "        vertical-align: top;\n",
       "    }\n",
       "\n",
       "    .dataframe thead th {\n",
       "        text-align: right;\n",
       "    }\n",
       "</style>\n",
       "<table border=\"1\" class=\"dataframe\">\n",
       "  <thead>\n",
       "    <tr style=\"text-align: right;\">\n",
       "      <th></th>\n",
       "      <th>CITY</th>\n",
       "      <th>ZIP CODE</th>\n",
       "      <th>ID SALE APPOINTMENT</th>\n",
       "    </tr>\n",
       "  </thead>\n",
       "  <tbody>\n",
       "    <tr>\n",
       "      <th>25</th>\n",
       "      <td>PARIS</td>\n",
       "      <td>75019</td>\n",
       "      <td>154</td>\n",
       "    </tr>\n",
       "    <tr>\n",
       "      <th>10</th>\n",
       "      <td>MONTREUIL</td>\n",
       "      <td>93100</td>\n",
       "      <td>146</td>\n",
       "    </tr>\n",
       "    <tr>\n",
       "      <th>21</th>\n",
       "      <td>PARIS</td>\n",
       "      <td>75011</td>\n",
       "      <td>144</td>\n",
       "    </tr>\n",
       "    <tr>\n",
       "      <th>24</th>\n",
       "      <td>PARIS</td>\n",
       "      <td>75018</td>\n",
       "      <td>138</td>\n",
       "    </tr>\n",
       "    <tr>\n",
       "      <th>26</th>\n",
       "      <td>PARIS</td>\n",
       "      <td>75020</td>\n",
       "      <td>122</td>\n",
       "    </tr>\n",
       "    <tr>\n",
       "      <th>18</th>\n",
       "      <td>PARIS</td>\n",
       "      <td>75007</td>\n",
       "      <td>105</td>\n",
       "    </tr>\n",
       "    <tr>\n",
       "      <th>0</th>\n",
       "      <td>AUBERVILLIERS</td>\n",
       "      <td>93300</td>\n",
       "      <td>100</td>\n",
       "    </tr>\n",
       "    <tr>\n",
       "      <th>22</th>\n",
       "      <td>PARIS</td>\n",
       "      <td>75012</td>\n",
       "      <td>96</td>\n",
       "    </tr>\n",
       "    <tr>\n",
       "      <th>19</th>\n",
       "      <td>PARIS</td>\n",
       "      <td>75009</td>\n",
       "      <td>93</td>\n",
       "    </tr>\n",
       "    <tr>\n",
       "      <th>20</th>\n",
       "      <td>PARIS</td>\n",
       "      <td>75010</td>\n",
       "      <td>92</td>\n",
       "    </tr>\n",
       "  </tbody>\n",
       "</table>\n",
       "</div>"
      ],
      "text/plain": [
       "             CITY  ZIP CODE  ID SALE APPOINTMENT\n",
       "25          PARIS     75019                  154\n",
       "10      MONTREUIL     93100                  146\n",
       "21          PARIS     75011                  144\n",
       "24          PARIS     75018                  138\n",
       "26          PARIS     75020                  122\n",
       "18          PARIS     75007                  105\n",
       "0   AUBERVILLIERS     93300                  100\n",
       "22          PARIS     75012                   96\n",
       "19          PARIS     75009                   93\n",
       "20          PARIS     75010                   92"
      ]
     },
     "execution_count": 136,
     "metadata": {},
     "output_type": "execute_result"
    }
   ],
   "source": [
    "df_focus[df_focus[\"Cluster\"]==1].groupby([\"CITY\",\"ZIP CODE\"]).count()['ID SALE APPOINTMENT'].reset_index().sort_values('ID SALE APPOINTMENT', ascending=False).head(10)"
   ]
  },
  {
   "cell_type": "markdown",
   "metadata": {},
   "source": [
    "# __DATA POUR DATAVIZ TOOL__"
   ]
  },
  {
   "cell_type": "code",
   "execution_count": 131,
   "metadata": {},
   "outputs": [
    {
     "data": {
      "text/html": [
       "<div>\n",
       "<style scoped>\n",
       "    .dataframe tbody tr th:only-of-type {\n",
       "        vertical-align: middle;\n",
       "    }\n",
       "\n",
       "    .dataframe tbody tr th {\n",
       "        vertical-align: top;\n",
       "    }\n",
       "\n",
       "    .dataframe thead th {\n",
       "        text-align: right;\n",
       "    }\n",
       "</style>\n",
       "<table border=\"1\" class=\"dataframe\">\n",
       "  <thead>\n",
       "    <tr style=\"text-align: right;\">\n",
       "      <th></th>\n",
       "      <th>LATITUDE</th>\n",
       "      <th>LONGITUDE</th>\n",
       "      <th>Cluster</th>\n",
       "      <th>CITY</th>\n",
       "      <th>NB_APPT</th>\n",
       "    </tr>\n",
       "  </thead>\n",
       "  <tbody>\n",
       "    <tr>\n",
       "      <th>0</th>\n",
       "      <td>48.700000</td>\n",
       "      <td>2.550000</td>\n",
       "      <td>5</td>\n",
       "      <td>MANDRES LES ROSES</td>\n",
       "      <td>9</td>\n",
       "    </tr>\n",
       "    <tr>\n",
       "      <th>1</th>\n",
       "      <td>48.700000</td>\n",
       "      <td>2.550000</td>\n",
       "      <td>5</td>\n",
       "      <td>PERIGNY SUR YERRES</td>\n",
       "      <td>11</td>\n",
       "    </tr>\n",
       "    <tr>\n",
       "      <th>2</th>\n",
       "      <td>48.716667</td>\n",
       "      <td>2.416667</td>\n",
       "      <td>5</td>\n",
       "      <td>ABLON SUR SEINE</td>\n",
       "      <td>9</td>\n",
       "    </tr>\n",
       "    <tr>\n",
       "      <th>3</th>\n",
       "      <td>48.733333</td>\n",
       "      <td>2.416667</td>\n",
       "      <td>5</td>\n",
       "      <td>VILLENEUVE LE ROI</td>\n",
       "      <td>45</td>\n",
       "    </tr>\n",
       "    <tr>\n",
       "      <th>4</th>\n",
       "      <td>48.733333</td>\n",
       "      <td>2.450000</td>\n",
       "      <td>5</td>\n",
       "      <td>VILLENEUVE ST GEORGES</td>\n",
       "      <td>49</td>\n",
       "    </tr>\n",
       "  </tbody>\n",
       "</table>\n",
       "</div>"
      ],
      "text/plain": [
       "    LATITUDE  LONGITUDE  Cluster                   CITY  NB_APPT\n",
       "0  48.700000   2.550000        5      MANDRES LES ROSES        9\n",
       "1  48.700000   2.550000        5     PERIGNY SUR YERRES       11\n",
       "2  48.716667   2.416667        5        ABLON SUR SEINE        9\n",
       "3  48.733333   2.416667        5      VILLENEUVE LE ROI       45\n",
       "4  48.733333   2.450000        5  VILLENEUVE ST GEORGES       49"
      ]
     },
     "execution_count": 131,
     "metadata": {},
     "output_type": "execute_result"
    }
   ],
   "source": [
    "#RUN IF NEEDED, PUT COMMENTS OUT\n",
    "#NB_APPT_2=df_focus.groupby([\"LATITUDE\",\"LONGITUDE\",\"Cluster\", \"CITY\"]).agg(NB_APPT=pd.NamedAgg(column='ID SALE APPOINTMENT', aggfunc='nunique')).reset_index()\n",
    "#NB_APPT_2.head()"
   ]
  },
  {
   "cell_type": "code",
   "execution_count": 132,
   "metadata": {},
   "outputs": [],
   "source": [
    "#NB_APPT_2.to_csv(\"AGGREG_MEDIUM_QLIKSENSE.csv\", sep=\";\", index=False)"
   ]
  },
  {
   "cell_type": "markdown",
   "metadata": {},
   "source": [
    "# __TRAVEL TIME & DISTANCE WITHIN-CLUSTER__"
   ]
  },
  {
   "cell_type": "code",
   "execution_count": 72,
   "metadata": {
    "extensions": {
     "jupyter_dashboards": {
      "version": 1,
      "views": {
       "grid_default": {},
       "report_default": {}
      }
     }
    },
    "slideshow": {
     "slide_type": "slide"
    }
   },
   "outputs": [],
   "source": [
    "def metrics_inside_cluster(cluster):\n",
    "\n",
    "    city_in_top5_total=pd.DataFrame()\n",
    "    city_in_top5=pd.DataFrame()\n",
    "    j=cluster\n",
    "\n",
    "\n",
    "    cluster_j=df_focus_drop.loc[df_focus_drop[\"Cluster\"]==j]\n",
    "    city_in_top5=Top_5.loc[Top_5[\"Cluster\"]==j,[\"Cluster\",\"CITY\",\"LONGITUDE\",\"LATITUDE\", \"ZIP CODE\"]]\n",
    "    city_in_top5=city_in_top5.rename(columns={\"CITY\":\"CITY_Top5\",\"ZIP CODE\":\"Zip_Top5\",\"LONGITUDE\":\"longitude_Top5\",\"LATITUDE\":\"latitude_Top5\" })\n",
    "\n",
    "    city_in_top5[\"AVERAGE REAL DISTANCE\"]=0.0\n",
    "    city_in_top5[\"AVERAGE TRAVEL TIME\"]=0.0\n",
    "    city_in_top5[\"AVERAGE TRAVEL TIME TRAFFIC\"]=0.0\n",
    "\n",
    "    for v in np.arange(city_in_top5.shape[0]):\n",
    "\n",
    "        position_long=city_in_top5.columns.get_loc(\"longitude_Top5\")\n",
    "        position_lat=city_in_top5.columns.get_loc(\"latitude_Top5\")\n",
    "\n",
    "        longitude_orig=city_in_top5.iloc[v,position_long]\n",
    "        latitude_orig=city_in_top5.iloc[v,position_lat]\n",
    "        moy_dist=[]\n",
    "        moy_tps=[]\n",
    "        moy_tps_trafic=[]\n",
    "        for i in np.arange(cluster_j.shape[0]):\n",
    "            position_long=cluster_j.columns.get_loc(\"LONGITUDE\")\n",
    "            position_lat=cluster_j.columns.get_loc(\"LATITUDE\")\n",
    "            longitude_dest=cluster_j.iloc[i,position_long]\n",
    "            latitude_dest=cluster_j.iloc[i,position_lat]\n",
    "            y=api_gmaps_request(longitude_orig,latitude_orig,longitude_dest,latitude_dest,API_KEY,departure_time,Traffic_model)\n",
    "            #print(j,v,i)\n",
    "            if y[3]==\"OK\":\n",
    "                moy_dist.append(y[0])\n",
    "                moy_tps.append(y[1])\n",
    "                moy_tps_trafic.append(y[2])\n",
    "        position_dist_moy=city_in_top5.columns.get_loc(\"AVERAGE REAL DISTANCE\")\n",
    "        position_tps_traj=city_in_top5.columns.get_loc(\"AVERAGE TRAVEL TIME\")\n",
    "        position_tps_traj_traf=city_in_top5.columns.get_loc(\"AVERAGE TRAVEL TIME TRAFFIC\")\n",
    "\n",
    "        city_in_top5.iloc[v,position_dist_moy]=np.mean(moy_dist)\n",
    "        city_in_top5.iloc[v,position_tps_traj]=np.mean(moy_tps)\n",
    "        city_in_top5.iloc[v,position_tps_traj_traf]=np.mean(moy_tps_trafic)        \n",
    "    city_in_top5_total=pd.concat([city_in_top5_total,city_in_top5])\n",
    "    return(city_in_top5_total)\n",
    "\n"
   ]
  },
  {
   "cell_type": "markdown",
   "metadata": {
    "extensions": {
     "jupyter_dashboards": {
      "version": 1,
      "views": {
       "grid_default": {},
       "report_default": {}
      }
     }
    }
   },
   "source": [
    "# __RUN FOR EACH CLUSTER & CONCATENATION__ \n",
    "### __MAKE IT ONE BY ONE TO AVOID SOME OBSERVED BUGS TO CALL THE API__"
   ]
  },
  {
   "cell_type": "code",
   "execution_count": 73,
   "metadata": {
    "extensions": {
     "jupyter_dashboards": {
      "version": 1,
      "views": {
       "grid_default": {},
       "report_default": {}
      }
     }
    }
   },
   "outputs": [],
   "source": [
    "metrics_inside_1=metrics_inside_cluster(1)"
   ]
  },
  {
   "cell_type": "code",
   "execution_count": 75,
   "metadata": {
    "extensions": {
     "jupyter_dashboards": {
      "version": 1,
      "views": {
       "grid_default": {},
       "report_default": {}
      }
     }
    }
   },
   "outputs": [],
   "source": [
    "metrics_inside_2=metrics_inside_cluster(2)"
   ]
  },
  {
   "cell_type": "code",
   "execution_count": 76,
   "metadata": {
    "extensions": {
     "jupyter_dashboards": {
      "version": 1,
      "views": {
       "grid_default": {},
       "report_default": {}
      }
     }
    }
   },
   "outputs": [],
   "source": [
    "metrics_inside_3=metrics_inside_cluster(3)"
   ]
  },
  {
   "cell_type": "code",
   "execution_count": 77,
   "metadata": {
    "extensions": {
     "jupyter_dashboards": {
      "version": 1,
      "views": {
       "grid_default": {},
       "report_default": {}
      }
     }
    }
   },
   "outputs": [],
   "source": [
    "metrics_inside_4=metrics_inside_cluster(4)"
   ]
  },
  {
   "cell_type": "code",
   "execution_count": 78,
   "metadata": {
    "extensions": {
     "jupyter_dashboards": {
      "version": 1,
      "views": {
       "grid_default": {},
       "report_default": {}
      }
     }
    }
   },
   "outputs": [],
   "source": [
    "metrics_inside_5=metrics_inside_cluster(5)"
   ]
  },
  {
   "cell_type": "code",
   "execution_count": 84,
   "metadata": {
    "extensions": {
     "jupyter_dashboards": {
      "version": 1,
      "views": {
       "grid_default": {},
       "report_default": {}
      }
     }
    }
   },
   "outputs": [
    {
     "data": {
      "text/html": [
       "<div>\n",
       "<style scoped>\n",
       "    .dataframe tbody tr th:only-of-type {\n",
       "        vertical-align: middle;\n",
       "    }\n",
       "\n",
       "    .dataframe tbody tr th {\n",
       "        vertical-align: top;\n",
       "    }\n",
       "\n",
       "    .dataframe thead th {\n",
       "        text-align: right;\n",
       "    }\n",
       "</style>\n",
       "<table border=\"1\" class=\"dataframe\">\n",
       "  <thead>\n",
       "    <tr style=\"text-align: right;\">\n",
       "      <th></th>\n",
       "      <th>Cluster</th>\n",
       "      <th>CITY_Top5</th>\n",
       "      <th>longitude_Top5</th>\n",
       "      <th>latitude_Top5</th>\n",
       "      <th>Zip_Top5</th>\n",
       "      <th>AVERAGE REAL DISTANCE</th>\n",
       "      <th>AVERAGE TRAVEL TIME</th>\n",
       "      <th>AVERAGE TRAVEL TIME TRAFFIC</th>\n",
       "    </tr>\n",
       "  </thead>\n",
       "  <tbody>\n",
       "    <tr>\n",
       "      <th>7</th>\n",
       "      <td>1</td>\n",
       "      <td>PARIS</td>\n",
       "      <td>2.393775</td>\n",
       "      <td>48.882715</td>\n",
       "      <td>75019</td>\n",
       "      <td>7.147273</td>\n",
       "      <td>19.508485</td>\n",
       "      <td>23.787576</td>\n",
       "    </tr>\n",
       "    <tr>\n",
       "      <th>23</th>\n",
       "      <td>1</td>\n",
       "      <td>PARIS</td>\n",
       "      <td>2.354391</td>\n",
       "      <td>48.879201</td>\n",
       "      <td>75010</td>\n",
       "      <td>7.490909</td>\n",
       "      <td>23.077273</td>\n",
       "      <td>26.327879</td>\n",
       "    </tr>\n",
       "    <tr>\n",
       "      <th>9</th>\n",
       "      <td>1</td>\n",
       "      <td>PARIS</td>\n",
       "      <td>2.371330</td>\n",
       "      <td>48.856244</td>\n",
       "      <td>75011</td>\n",
       "      <td>6.831515</td>\n",
       "      <td>21.439394</td>\n",
       "      <td>25.017273</td>\n",
       "    </tr>\n",
       "    <tr>\n",
       "      <th>14</th>\n",
       "      <td>1</td>\n",
       "      <td>PARIS</td>\n",
       "      <td>2.360277</td>\n",
       "      <td>48.862648</td>\n",
       "      <td>75003</td>\n",
       "      <td>6.353333</td>\n",
       "      <td>21.623636</td>\n",
       "      <td>25.483030</td>\n",
       "    </tr>\n",
       "    <tr>\n",
       "      <th>31</th>\n",
       "      <td>1</td>\n",
       "      <td>PARIS</td>\n",
       "      <td>2.339544</td>\n",
       "      <td>48.883073</td>\n",
       "      <td>75018</td>\n",
       "      <td>8.633333</td>\n",
       "      <td>24.260303</td>\n",
       "      <td>26.524848</td>\n",
       "    </tr>\n",
       "    <tr>\n",
       "      <th>4151</th>\n",
       "      <td>2</td>\n",
       "      <td>LE RAINCY</td>\n",
       "      <td>2.516667</td>\n",
       "      <td>48.900000</td>\n",
       "      <td>93340</td>\n",
       "      <td>6.861200</td>\n",
       "      <td>18.873200</td>\n",
       "      <td>19.921600</td>\n",
       "    </tr>\n",
       "    <tr>\n",
       "      <th>4168</th>\n",
       "      <td>2</td>\n",
       "      <td>GAGNY</td>\n",
       "      <td>2.533333</td>\n",
       "      <td>48.883333</td>\n",
       "      <td>93220</td>\n",
       "      <td>7.350800</td>\n",
       "      <td>17.608400</td>\n",
       "      <td>18.542800</td>\n",
       "    </tr>\n",
       "    <tr>\n",
       "      <th>4165</th>\n",
       "      <td>2</td>\n",
       "      <td>LIVRY GARGAN</td>\n",
       "      <td>2.550000</td>\n",
       "      <td>48.916667</td>\n",
       "      <td>93190</td>\n",
       "      <td>9.408000</td>\n",
       "      <td>20.322800</td>\n",
       "      <td>21.401200</td>\n",
       "    </tr>\n",
       "    <tr>\n",
       "      <th>4157</th>\n",
       "      <td>2</td>\n",
       "      <td>VILLEMOMBLE</td>\n",
       "      <td>2.500000</td>\n",
       "      <td>48.883333</td>\n",
       "      <td>93250</td>\n",
       "      <td>7.788400</td>\n",
       "      <td>16.339200</td>\n",
       "      <td>17.848800</td>\n",
       "    </tr>\n",
       "    <tr>\n",
       "      <th>4153</th>\n",
       "      <td>2</td>\n",
       "      <td>MONTFERMEIL</td>\n",
       "      <td>2.566667</td>\n",
       "      <td>48.900000</td>\n",
       "      <td>93370</td>\n",
       "      <td>8.902800</td>\n",
       "      <td>21.424400</td>\n",
       "      <td>23.102000</td>\n",
       "    </tr>\n",
       "  </tbody>\n",
       "</table>\n",
       "</div>"
      ],
      "text/plain": [
       "      Cluster     CITY_Top5  longitude_Top5  latitude_Top5  Zip_Top5  \\\n",
       "7           1         PARIS        2.393775      48.882715     75019   \n",
       "23          1         PARIS        2.354391      48.879201     75010   \n",
       "9           1         PARIS        2.371330      48.856244     75011   \n",
       "14          1         PARIS        2.360277      48.862648     75003   \n",
       "31          1         PARIS        2.339544      48.883073     75018   \n",
       "4151        2     LE RAINCY        2.516667      48.900000     93340   \n",
       "4168        2         GAGNY        2.533333      48.883333     93220   \n",
       "4165        2  LIVRY GARGAN        2.550000      48.916667     93190   \n",
       "4157        2   VILLEMOMBLE        2.500000      48.883333     93250   \n",
       "4153        2   MONTFERMEIL        2.566667      48.900000     93370   \n",
       "\n",
       "      AVERAGE REAL DISTANCE  AVERAGE TRAVEL TIME  AVERAGE TRAVEL TIME TRAFFIC  \n",
       "7                  7.147273            19.508485                    23.787576  \n",
       "23                 7.490909            23.077273                    26.327879  \n",
       "9                  6.831515            21.439394                    25.017273  \n",
       "14                 6.353333            21.623636                    25.483030  \n",
       "31                 8.633333            24.260303                    26.524848  \n",
       "4151               6.861200            18.873200                    19.921600  \n",
       "4168               7.350800            17.608400                    18.542800  \n",
       "4165               9.408000            20.322800                    21.401200  \n",
       "4157               7.788400            16.339200                    17.848800  \n",
       "4153               8.902800            21.424400                    23.102000  "
      ]
     },
     "execution_count": 84,
     "metadata": {},
     "output_type": "execute_result"
    }
   ],
   "source": [
    "metrics_all_clusters_df=pd.concat([metrics_inside_1,metrics_inside_2,metrics_inside_3,metrics_inside_4,metrics_inside_5])\n",
    "metrics_all_clusters_df.head(10)\n"
   ]
  },
  {
   "cell_type": "code",
   "execution_count": 83,
   "metadata": {},
   "outputs": [],
   "source": [
    "#metrics_all_clusters_df.to_pickle(\"metrics_all_clusters_df__MEDIUM\")"
   ]
  },
  {
   "cell_type": "markdown",
   "metadata": {
    "extensions": {
     "jupyter_dashboards": {
      "version": 1,
      "views": {
       "grid_default": {},
       "report_default": {}
      }
     }
    }
   },
   "source": [
    "# CALCULATION DISTANCE/TIME FROM AGENCIES TO CLUSTER"
   ]
  },
  {
   "cell_type": "code",
   "execution_count": 99,
   "metadata": {
    "extensions": {
     "jupyter_dashboards": {
      "version": 1,
      "views": {
       "grid_default": {},
       "report_default": {}
      }
     }
    }
   },
   "outputs": [
    {
     "data": {
      "text/html": [
       "<div>\n",
       "<style scoped>\n",
       "    .dataframe tbody tr th:only-of-type {\n",
       "        vertical-align: middle;\n",
       "    }\n",
       "\n",
       "    .dataframe tbody tr th {\n",
       "        vertical-align: top;\n",
       "    }\n",
       "\n",
       "    .dataframe thead th {\n",
       "        text-align: right;\n",
       "    }\n",
       "</style>\n",
       "<table border=\"1\" class=\"dataframe\">\n",
       "  <thead>\n",
       "    <tr style=\"text-align: right;\">\n",
       "      <th></th>\n",
       "      <th>Cluster</th>\n",
       "      <th>CITY</th>\n",
       "      <th>ZIP CODE</th>\n",
       "      <th>LONGITUDE</th>\n",
       "      <th>LATITUDE</th>\n",
       "      <th>Id</th>\n",
       "      <th>long_ag</th>\n",
       "      <th>lat_ag</th>\n",
       "    </tr>\n",
       "  </thead>\n",
       "  <tbody>\n",
       "    <tr>\n",
       "      <th>0</th>\n",
       "      <td>1</td>\n",
       "      <td>PARIS</td>\n",
       "      <td>75019</td>\n",
       "      <td>2.393775</td>\n",
       "      <td>48.882715</td>\n",
       "      <td>1</td>\n",
       "      <td>2.3820</td>\n",
       "      <td>48.8828</td>\n",
       "    </tr>\n",
       "    <tr>\n",
       "      <th>1</th>\n",
       "      <td>1</td>\n",
       "      <td>PARIS</td>\n",
       "      <td>75010</td>\n",
       "      <td>2.354391</td>\n",
       "      <td>48.879201</td>\n",
       "      <td>1</td>\n",
       "      <td>2.3820</td>\n",
       "      <td>48.8828</td>\n",
       "    </tr>\n",
       "    <tr>\n",
       "      <th>2</th>\n",
       "      <td>1</td>\n",
       "      <td>PARIS</td>\n",
       "      <td>75011</td>\n",
       "      <td>2.371330</td>\n",
       "      <td>48.856244</td>\n",
       "      <td>1</td>\n",
       "      <td>2.3820</td>\n",
       "      <td>48.8828</td>\n",
       "    </tr>\n",
       "    <tr>\n",
       "      <th>3</th>\n",
       "      <td>1</td>\n",
       "      <td>PARIS</td>\n",
       "      <td>75003</td>\n",
       "      <td>2.360277</td>\n",
       "      <td>48.862648</td>\n",
       "      <td>1</td>\n",
       "      <td>2.3820</td>\n",
       "      <td>48.8828</td>\n",
       "    </tr>\n",
       "    <tr>\n",
       "      <th>4</th>\n",
       "      <td>1</td>\n",
       "      <td>PARIS</td>\n",
       "      <td>75018</td>\n",
       "      <td>2.339544</td>\n",
       "      <td>48.883073</td>\n",
       "      <td>1</td>\n",
       "      <td>2.3820</td>\n",
       "      <td>48.8828</td>\n",
       "    </tr>\n",
       "    <tr>\n",
       "      <th>25</th>\n",
       "      <td>1</td>\n",
       "      <td>PARIS</td>\n",
       "      <td>75019</td>\n",
       "      <td>2.393775</td>\n",
       "      <td>48.882715</td>\n",
       "      <td>2</td>\n",
       "      <td>2.3123</td>\n",
       "      <td>48.7978</td>\n",
       "    </tr>\n",
       "    <tr>\n",
       "      <th>26</th>\n",
       "      <td>1</td>\n",
       "      <td>PARIS</td>\n",
       "      <td>75010</td>\n",
       "      <td>2.354391</td>\n",
       "      <td>48.879201</td>\n",
       "      <td>2</td>\n",
       "      <td>2.3123</td>\n",
       "      <td>48.7978</td>\n",
       "    </tr>\n",
       "    <tr>\n",
       "      <th>27</th>\n",
       "      <td>1</td>\n",
       "      <td>PARIS</td>\n",
       "      <td>75011</td>\n",
       "      <td>2.371330</td>\n",
       "      <td>48.856244</td>\n",
       "      <td>2</td>\n",
       "      <td>2.3123</td>\n",
       "      <td>48.7978</td>\n",
       "    </tr>\n",
       "    <tr>\n",
       "      <th>28</th>\n",
       "      <td>1</td>\n",
       "      <td>PARIS</td>\n",
       "      <td>75003</td>\n",
       "      <td>2.360277</td>\n",
       "      <td>48.862648</td>\n",
       "      <td>2</td>\n",
       "      <td>2.3123</td>\n",
       "      <td>48.7978</td>\n",
       "    </tr>\n",
       "    <tr>\n",
       "      <th>29</th>\n",
       "      <td>1</td>\n",
       "      <td>PARIS</td>\n",
       "      <td>75018</td>\n",
       "      <td>2.339544</td>\n",
       "      <td>48.883073</td>\n",
       "      <td>2</td>\n",
       "      <td>2.3123</td>\n",
       "      <td>48.7978</td>\n",
       "    </tr>\n",
       "  </tbody>\n",
       "</table>\n",
       "</div>"
      ],
      "text/plain": [
       "    Cluster   CITY  ZIP CODE  LONGITUDE   LATITUDE  Id  long_ag   lat_ag\n",
       "0         1  PARIS     75019   2.393775  48.882715   1   2.3820  48.8828\n",
       "1         1  PARIS     75010   2.354391  48.879201   1   2.3820  48.8828\n",
       "2         1  PARIS     75011   2.371330  48.856244   1   2.3820  48.8828\n",
       "3         1  PARIS     75003   2.360277  48.862648   1   2.3820  48.8828\n",
       "4         1  PARIS     75018   2.339544  48.883073   1   2.3820  48.8828\n",
       "25        1  PARIS     75019   2.393775  48.882715   2   2.3123  48.7978\n",
       "26        1  PARIS     75010   2.354391  48.879201   2   2.3123  48.7978\n",
       "27        1  PARIS     75011   2.371330  48.856244   2   2.3123  48.7978\n",
       "28        1  PARIS     75003   2.360277  48.862648   2   2.3123  48.7978\n",
       "29        1  PARIS     75018   2.339544  48.883073   2   2.3123  48.7978"
      ]
     },
     "execution_count": 99,
     "metadata": {},
     "output_type": "execute_result"
    }
   ],
   "source": [
    "## Fake Id, just a trick to merge each cluster to each current agencies (fake) \n",
    "#in order to calculate travel time between both\n",
    "Top_5__1=Top_5[[\"Cluster\", \"CITY\",\"ZIP CODE\",\"LONGITUDE\",\"LATITUDE\"]].copy()\n",
    "Top_5__1[\"Id\"]=1\n",
    "\n",
    "Top_5__2=Top_5[[\"Cluster\", \"CITY\",\"ZIP CODE\",\"LONGITUDE\",\"LATITUDE\"]].copy()\n",
    "Top_5__2[\"Id\"]=2\n",
    "\n",
    "Top_5__=pd.concat([Top_5__1, Top_5__2])\n",
    "\n",
    "#agencies longitude & latitude\n",
    "long_ag=[2.382000000000062,2.31230000000005]\n",
    "lat_ag=[48.8828,48.7978]\n",
    "current_agencies=pd.DataFrame({\"long_ag\":long_ag,\"lat_ag\":lat_ag, \"Id\":[1,2]})\n",
    "\n",
    "Top_5__=pd.merge(Top_5__,current_agencies,on=\"Id\", how=\"left\").sort_values([\"Cluster\",\"CITY\"])\n",
    "Top_5__.head(10)"
   ]
  },
  {
   "cell_type": "code",
   "execution_count": 102,
   "metadata": {
    "extensions": {
     "jupyter_dashboards": {
      "version": 1,
      "views": {
       "grid_default": {},
       "report_default": {}
      }
     }
    }
   },
   "outputs": [],
   "source": [
    "##  time/distance between clusters and current agencies \n",
    "Top_5__[\"REAL TIME\"]=0\n",
    "Top_5__[\"DISTANCE\"]=0\n",
    "\n",
    "pos_long=Top_5__.columns.get_loc(\"LONGITUDE\")\n",
    "pos_lat=Top_5__.columns.get_loc(\"LATITUDE\")\n",
    "\n",
    "pos_long_ag=Top_5__.columns.get_loc(\"long_ag\")\n",
    "pos_lat_ag=Top_5__.columns.get_loc(\"lat_ag\")\n",
    "\n",
    "pos_tps=Top_5__.columns.get_loc(\"REAL TIME\")\n",
    "pos_dist=Top_5__.columns.get_loc(\"DISTANCE\")\n",
    "\n",
    "for i in np.arange(len(Top_5__)):\n",
    "    \n",
    "    longitude_orig=Top_5__.iloc[i,pos_long_ag]\n",
    "    latitude_orig=Top_5__.iloc[i,pos_lat_ag]\n",
    "    \n",
    "    longitude_dest=Top_5__.iloc[i,pos_long]\n",
    "    latitude_dest=Top_5__.iloc[i,pos_lat]\n",
    "    \n",
    "    requete=api_gmaps_request(longitude_orig,latitude_orig,longitude_dest,latitude_dest,API_KEY,departure_time,Traffic_model)\n",
    "\n",
    "    \n",
    "    Top_5__.iloc[i,pos_tps]=requete[1]\n",
    "    Top_5__.iloc[i,pos_dist]=requete[0] \n",
    "\n",
    "    "
   ]
  },
  {
   "cell_type": "code",
   "execution_count": 103,
   "metadata": {
    "extensions": {
     "jupyter_dashboards": {
      "version": 1,
      "views": {
       "grid_default": {},
       "report_default": {}
      }
     }
    }
   },
   "outputs": [
    {
     "data": {
      "text/html": [
       "<div>\n",
       "<style scoped>\n",
       "    .dataframe tbody tr th:only-of-type {\n",
       "        vertical-align: middle;\n",
       "    }\n",
       "\n",
       "    .dataframe tbody tr th {\n",
       "        vertical-align: top;\n",
       "    }\n",
       "\n",
       "    .dataframe thead th {\n",
       "        text-align: right;\n",
       "    }\n",
       "</style>\n",
       "<table border=\"1\" class=\"dataframe\">\n",
       "  <thead>\n",
       "    <tr style=\"text-align: right;\">\n",
       "      <th></th>\n",
       "      <th>Cluster</th>\n",
       "      <th>CITY</th>\n",
       "      <th>ZIP CODE</th>\n",
       "      <th>LONGITUDE</th>\n",
       "      <th>LATITUDE</th>\n",
       "      <th>Id</th>\n",
       "      <th>long_ag</th>\n",
       "      <th>lat_ag</th>\n",
       "      <th>REAL TIME</th>\n",
       "      <th>DISTANCE</th>\n",
       "    </tr>\n",
       "  </thead>\n",
       "  <tbody>\n",
       "    <tr>\n",
       "      <th>0</th>\n",
       "      <td>1</td>\n",
       "      <td>PARIS</td>\n",
       "      <td>75019</td>\n",
       "      <td>2.393775</td>\n",
       "      <td>48.882715</td>\n",
       "      <td>1</td>\n",
       "      <td>2.3820</td>\n",
       "      <td>48.8828</td>\n",
       "      <td>3.55</td>\n",
       "      <td>1.07</td>\n",
       "    </tr>\n",
       "    <tr>\n",
       "      <th>1</th>\n",
       "      <td>1</td>\n",
       "      <td>PARIS</td>\n",
       "      <td>75010</td>\n",
       "      <td>2.354391</td>\n",
       "      <td>48.879201</td>\n",
       "      <td>1</td>\n",
       "      <td>2.3820</td>\n",
       "      <td>48.8828</td>\n",
       "      <td>12.37</td>\n",
       "      <td>2.48</td>\n",
       "    </tr>\n",
       "    <tr>\n",
       "      <th>2</th>\n",
       "      <td>1</td>\n",
       "      <td>PARIS</td>\n",
       "      <td>75011</td>\n",
       "      <td>2.371330</td>\n",
       "      <td>48.856244</td>\n",
       "      <td>1</td>\n",
       "      <td>2.3820</td>\n",
       "      <td>48.8828</td>\n",
       "      <td>19.08</td>\n",
       "      <td>4.86</td>\n",
       "    </tr>\n",
       "    <tr>\n",
       "      <th>3</th>\n",
       "      <td>1</td>\n",
       "      <td>PARIS</td>\n",
       "      <td>75003</td>\n",
       "      <td>2.360277</td>\n",
       "      <td>48.862648</td>\n",
       "      <td>1</td>\n",
       "      <td>2.3820</td>\n",
       "      <td>48.8828</td>\n",
       "      <td>20.42</td>\n",
       "      <td>4.74</td>\n",
       "    </tr>\n",
       "    <tr>\n",
       "      <th>4</th>\n",
       "      <td>1</td>\n",
       "      <td>PARIS</td>\n",
       "      <td>75018</td>\n",
       "      <td>2.339544</td>\n",
       "      <td>48.883073</td>\n",
       "      <td>1</td>\n",
       "      <td>2.3820</td>\n",
       "      <td>48.8828</td>\n",
       "      <td>17.05</td>\n",
       "      <td>3.58</td>\n",
       "    </tr>\n",
       "    <tr>\n",
       "      <th>25</th>\n",
       "      <td>1</td>\n",
       "      <td>PARIS</td>\n",
       "      <td>75019</td>\n",
       "      <td>2.393775</td>\n",
       "      <td>48.882715</td>\n",
       "      <td>2</td>\n",
       "      <td>2.3123</td>\n",
       "      <td>48.7978</td>\n",
       "      <td>28.27</td>\n",
       "      <td>16.72</td>\n",
       "    </tr>\n",
       "    <tr>\n",
       "      <th>26</th>\n",
       "      <td>1</td>\n",
       "      <td>PARIS</td>\n",
       "      <td>75010</td>\n",
       "      <td>2.354391</td>\n",
       "      <td>48.879201</td>\n",
       "      <td>2</td>\n",
       "      <td>2.3123</td>\n",
       "      <td>48.7978</td>\n",
       "      <td>37.23</td>\n",
       "      <td>10.47</td>\n",
       "    </tr>\n",
       "    <tr>\n",
       "      <th>27</th>\n",
       "      <td>1</td>\n",
       "      <td>PARIS</td>\n",
       "      <td>75011</td>\n",
       "      <td>2.371330</td>\n",
       "      <td>48.856244</td>\n",
       "      <td>2</td>\n",
       "      <td>2.3123</td>\n",
       "      <td>48.7978</td>\n",
       "      <td>26.88</td>\n",
       "      <td>13.00</td>\n",
       "    </tr>\n",
       "    <tr>\n",
       "      <th>28</th>\n",
       "      <td>1</td>\n",
       "      <td>PARIS</td>\n",
       "      <td>75003</td>\n",
       "      <td>2.360277</td>\n",
       "      <td>48.862648</td>\n",
       "      <td>2</td>\n",
       "      <td>2.3123</td>\n",
       "      <td>48.7978</td>\n",
       "      <td>30.47</td>\n",
       "      <td>14.14</td>\n",
       "    </tr>\n",
       "    <tr>\n",
       "      <th>29</th>\n",
       "      <td>1</td>\n",
       "      <td>PARIS</td>\n",
       "      <td>75018</td>\n",
       "      <td>2.339544</td>\n",
       "      <td>48.883073</td>\n",
       "      <td>2</td>\n",
       "      <td>2.3123</td>\n",
       "      <td>48.7978</td>\n",
       "      <td>40.72</td>\n",
       "      <td>20.37</td>\n",
       "    </tr>\n",
       "  </tbody>\n",
       "</table>\n",
       "</div>"
      ],
      "text/plain": [
       "    Cluster   CITY  ZIP CODE  LONGITUDE   LATITUDE  Id  long_ag   lat_ag  \\\n",
       "0         1  PARIS     75019   2.393775  48.882715   1   2.3820  48.8828   \n",
       "1         1  PARIS     75010   2.354391  48.879201   1   2.3820  48.8828   \n",
       "2         1  PARIS     75011   2.371330  48.856244   1   2.3820  48.8828   \n",
       "3         1  PARIS     75003   2.360277  48.862648   1   2.3820  48.8828   \n",
       "4         1  PARIS     75018   2.339544  48.883073   1   2.3820  48.8828   \n",
       "25        1  PARIS     75019   2.393775  48.882715   2   2.3123  48.7978   \n",
       "26        1  PARIS     75010   2.354391  48.879201   2   2.3123  48.7978   \n",
       "27        1  PARIS     75011   2.371330  48.856244   2   2.3123  48.7978   \n",
       "28        1  PARIS     75003   2.360277  48.862648   2   2.3123  48.7978   \n",
       "29        1  PARIS     75018   2.339544  48.883073   2   2.3123  48.7978   \n",
       "\n",
       "    REAL TIME  DISTANCE  \n",
       "0        3.55      1.07  \n",
       "1       12.37      2.48  \n",
       "2       19.08      4.86  \n",
       "3       20.42      4.74  \n",
       "4       17.05      3.58  \n",
       "25      28.27     16.72  \n",
       "26      37.23     10.47  \n",
       "27      26.88     13.00  \n",
       "28      30.47     14.14  \n",
       "29      40.72     20.37  "
      ]
     },
     "execution_count": 103,
     "metadata": {},
     "output_type": "execute_result"
    }
   ],
   "source": [
    "Top_5__.head(10)"
   ]
  },
  {
   "cell_type": "markdown",
   "metadata": {},
   "source": [
    "# HEATMAP FROM EXISTING AGENCIES TO CLUSTER"
   ]
  },
  {
   "cell_type": "code",
   "execution_count": 291,
   "metadata": {
    "extensions": {
     "jupyter_dashboards": {
      "version": 1,
      "views": {
       "grid_default": {},
       "report_default": {}
      }
     }
    }
   },
   "outputs": [
    {
     "data": {
      "image/png": "[encoded data removed]",
      "text/plain": [
       "<Figure size 720x576 with 2 Axes>"
      ]
     },
     "metadata": {
      "needs_background": "light"
     },
     "output_type": "display_data"
    }
   ],
   "source": [
    "Top_5__[\"CITY_AND_CLUSTER\"]=\"\"\n",
    "pos_CITY=Top_5__.columns.get_loc(\"CITY\")\n",
    "pos_Cluster=Top_5__.columns.get_loc(\"Cluster\")\n",
    "pos_ZIP_CODE=Top_5__.columns.get_loc(\"ZIP CODE\")\n",
    "pos_CITY_AND_CLUSTER=Top_5__.columns.get_loc(\"CITY_AND_CLUSTER\")\n",
    "\n",
    "for i in np.arange(len(Top_5__)):\n",
    "    Top_5__.iloc[i,pos_CITY_AND_CLUSTER]=\"Cluster \"+str(Top_5__.iloc[i,pos_Cluster])+\"--\"+str(Top_5__.iloc[i,pos_CITY])+\" (\"+str(Top_5__.iloc[i,pos_ZIP_CODE])+\")\"\n",
    "\n",
    "Top_5__p=pd.pivot_table(Top_5__, columns=[\"Id\"], index=\"CITY_AND_CLUSTER\", values=\"REAL TIME\")\n",
    "\n",
    "#rename Id by agencies name\n",
    "Dico_rename={1:\"EXISTING AGENCE 1\", 2:\"EXISTING AGENCE 2\"}\n",
    "Top_5__p=Top_5__p.rename(columns=Dico_rename)\n",
    "Top_5__p.head(10)\n",
    "\n",
    "plt.figure(figsize=(10,8))\n",
    "\n",
    "p=sns.heatmap(Top_5__p, annot=True,yticklabels=True, annot_kws={\"weight\": \"bold\", \"fontsize\":14}, fmt='.0f')\n",
    "p.set_xlabel('')\n",
    "p.set_ylabel('')\n",
    "p.set(ylim=(25,0))\n",
    "plt.ylim\n",
    "\n",
    "p.set_xticklabels(p.get_xticklabels(), fontsize=15, weight='bold', rotation=45, ha=\"right\")\n",
    "plt.title(\"DURATION FROM EXISTING AGENCIES TO CLUSTER \\n (in minutes)\", fontsize=25)\n",
    "plt.show()"
   ]
  }
 ],
 "metadata": {
  "celltoolbar": "Diaporama",
  "extensions": {
   "jupyter_dashboards": {
    "activeView": "grid_default",
    "version": 1,
    "views": {
     "grid_default": {
      "cellMargin": 10,
      "defaultCellHeight": 20,
      "maxColumns": 12,
      "name": "grid",
      "type": "grid"
     },
     "report_default": {
      "name": "report",
      "type": "report"
     }
    }
   }
  },
  "kernelspec": {
   "display_name": "Python 3",
   "language": "python",
   "name": "python3"
  },
  "language_info": {
   "codemirror_mode": {
    "name": "ipython",
    "version": 3
   },
   "file_extension": ".py",
   "mimetype": "text/x-python",
   "name": "python",
   "nbconvert_exporter": "python",
   "pygments_lexer": "ipython3",
   "version": "3.7.3"
  }
 },
 "nbformat": 4,
 "nbformat_minor": 2
}
