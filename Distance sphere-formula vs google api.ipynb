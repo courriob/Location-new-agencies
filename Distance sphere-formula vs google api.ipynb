{
 "cells": [
  {
   "cell_type": "code",
   "execution_count": 1,
   "metadata": {},
   "outputs": [],
   "source": [
    "import pandas as pd\n",
    "import numpy as np\n",
    "import requests\n",
    "import matplotlib.pyplot as plt\n",
    "import os\n",
    "import datetime as dt\n",
    "\n",
    "\n",
    "directory=\"C:/Users/courriol.obouckang/OneDrive - Verisure/PROJETS DATA/Nouvelles agences\"\n",
    "os.chdir(directory)"
   ]
  },
  {
   "cell_type": "code",
   "execution_count": 2,
   "metadata": {},
   "outputs": [
    {
     "data": {
      "text/html": [
       "\n",
       "<style>\n",
       ".output_png {\n",
       "    display: table-cell;\n",
       "    text-align: center;\n",
       "    vertical-align: center;\n",
       "}\n",
       "</style>\n"
      ],
      "text/plain": [
       "<IPython.core.display.HTML object>"
      ]
     },
     "execution_count": 2,
     "metadata": {},
     "output_type": "execute_result"
    }
   ],
   "source": [
    "#### display parameters \n",
    "from IPython.core.display import HTML\n",
    "HTML(\"\"\"\n",
    "<style>\n",
    ".output_png {\n",
    "    display: table-cell;\n",
    "    text-align: center;\n",
    "    vertical-align: center;\n",
    "}\n",
    "</style>\n",
    "\"\"\")"
   ]
  },
  {
   "cell_type": "markdown",
   "metadata": {},
   "source": [
    "# __dataset available in my directory__"
   ]
  },
  {
   "cell_type": "code",
   "execution_count": 3,
   "metadata": {},
   "outputs": [
    {
     "data": {
      "text/html": [
       "<div>\n",
       "<style scoped>\n",
       "    .dataframe tbody tr th:only-of-type {\n",
       "        vertical-align: middle;\n",
       "    }\n",
       "\n",
       "    .dataframe tbody tr th {\n",
       "        vertical-align: top;\n",
       "    }\n",
       "\n",
       "    .dataframe thead th {\n",
       "        text-align: right;\n",
       "    }\n",
       "</style>\n",
       "<table border=\"1\" class=\"dataframe\">\n",
       "  <thead>\n",
       "    <tr style=\"text-align: right;\">\n",
       "      <th></th>\n",
       "      <th>CITY_ORIGIN</th>\n",
       "      <th>LONGITUDE_ORIGINE</th>\n",
       "      <th>LATITUDE_ORIGINE</th>\n",
       "      <th>CITY_DESTINATION</th>\n",
       "      <th>LONGITUDE_DESTINATION</th>\n",
       "      <th>LATITUDE_DESTINATION</th>\n",
       "    </tr>\n",
       "  </thead>\n",
       "  <tbody>\n",
       "    <tr>\n",
       "      <th>0</th>\n",
       "      <td>BEAUSOLEIL</td>\n",
       "      <td>7.433333</td>\n",
       "      <td>43.750000</td>\n",
       "      <td>BEAUFORT SUR GERVANNE</td>\n",
       "      <td>5.050000</td>\n",
       "      <td>44.716667</td>\n",
       "    </tr>\n",
       "    <tr>\n",
       "      <th>1</th>\n",
       "      <td>ST MARTIN D'AUXY</td>\n",
       "      <td>4.666667</td>\n",
       "      <td>46.700000</td>\n",
       "      <td>MURS ERIGNE</td>\n",
       "      <td>-0.516667</td>\n",
       "      <td>47.366667</td>\n",
       "    </tr>\n",
       "    <tr>\n",
       "      <th>2</th>\n",
       "      <td>COLOMBES</td>\n",
       "      <td>2.250000</td>\n",
       "      <td>48.916667</td>\n",
       "      <td>BOHARS</td>\n",
       "      <td>-4.566667</td>\n",
       "      <td>48.433333</td>\n",
       "    </tr>\n",
       "    <tr>\n",
       "      <th>3</th>\n",
       "      <td>LAMBRES LEZ DOUAI</td>\n",
       "      <td>3.067780</td>\n",
       "      <td>50.353100</td>\n",
       "      <td>FROISSY</td>\n",
       "      <td>2.216667</td>\n",
       "      <td>49.550000</td>\n",
       "    </tr>\n",
       "    <tr>\n",
       "      <th>4</th>\n",
       "      <td>PROVINS</td>\n",
       "      <td>3.266667</td>\n",
       "      <td>48.583333</td>\n",
       "      <td>ST BRICE SOUS FORET</td>\n",
       "      <td>2.350000</td>\n",
       "      <td>49.016667</td>\n",
       "    </tr>\n",
       "  </tbody>\n",
       "</table>\n",
       "</div>"
      ],
      "text/plain": [
       "         CITY_ORIGIN  LONGITUDE_ORIGINE  LATITUDE_ORIGINE  \\\n",
       "0         BEAUSOLEIL           7.433333         43.750000   \n",
       "1   ST MARTIN D'AUXY           4.666667         46.700000   \n",
       "2           COLOMBES           2.250000         48.916667   \n",
       "3  LAMBRES LEZ DOUAI           3.067780         50.353100   \n",
       "4            PROVINS           3.266667         48.583333   \n",
       "\n",
       "        CITY_DESTINATION  LONGITUDE_DESTINATION  LATITUDE_DESTINATION  \n",
       "0  BEAUFORT SUR GERVANNE               5.050000             44.716667  \n",
       "1            MURS ERIGNE              -0.516667             47.366667  \n",
       "2                 BOHARS              -4.566667             48.433333  \n",
       "3                FROISSY               2.216667             49.550000  \n",
       "4    ST BRICE SOUS FORET               2.350000             49.016667  "
      ]
     },
     "execution_count": 3,
     "metadata": {},
     "output_type": "execute_result"
    }
   ],
   "source": [
    "#random geocode dataset\n",
    "\"\"\"\n",
    "random_geocode_df=pd.read_csv(\"random_geocode_df.csv\", sep=\";\")\n",
    "random_geocode_df\n",
    "\"\"\""
   ]
  },
  {
   "cell_type": "code",
   "execution_count": 4,
   "metadata": {},
   "outputs": [],
   "source": [
    "#put your active key\n",
    "API_KEY=\"your__api__key__from__google_cloud\"\n",
    "\n",
    "### departure_time = in integer seconds since January 1, 1970\n",
    "departure_time=str((dt.datetime(2019,10,24,8,30,0)-dt.datetime(1970,1,1,23,59,59)).total_seconds())\n",
    "departure_time=str(departure_time).split('.')[0]\n",
    "\n",
    "\n",
    "#Mode=\"driving\" #default value\n",
    "#Units=\"metric\" #default value\n",
    "\n",
    "Traffic_model=\"best_guess\" #default value, could take pessimistic, optimistic\n",
    "\n",
    "#We can estimate time have a look when the traffic is congested\n",
    "#Traffic_model=\"pessimistic\""
   ]
  },
  {
   "cell_type": "markdown",
   "metadata": {},
   "source": [
    "# __DISTANCE TRAVEL TIME WITH GOOGLE DISTANCE MATRIX API__"
   ]
  },
  {
   "cell_type": "code",
   "execution_count": 5,
   "metadata": {},
   "outputs": [],
   "source": [
    "def api_gmaps_request(longitude_orig,latitude_orig,longitude_dest,latitude_dest,API_KEY,departure_time,Traffic_model):\n",
    "    \n",
    "    longitude_orig=str(longitude_orig)\n",
    "    latitude_orig=str(latitude_orig)\n",
    "    longitude_dest=str(longitude_dest)\n",
    "    latitude_dest=str(latitude_dest)\n",
    "    Origins_gps=latitude_orig+\",\"+longitude_orig\n",
    "    Destination_gps=latitude_dest+\",\"+longitude_dest\n",
    "\n",
    "    Mode=\"driving\"\n",
    "    Units=\"metric\" #Distance in KM instead of miles\n",
    "    url_request=\"https://maps.googleapis.com/maps/api/distancematrix/json?units=imperial\"\n",
    "    url=url_request+\"&origins=\"+Origins_gps+\"&destinations=\"+Destination_gps+\"&traffic_model=\"+Traffic_model+\"&departure_time=\"+departure_time+\"&key=\"+API_KEY\n",
    "    \n",
    "    \n",
    "    res=requests.get(url)\n",
    "    data=res.json()\n",
    "    \n",
    "    if data[\"rows\"][0][\"elements\"][0][\"status\"]==\"OK\":\n",
    "        #data=pd.DataFrame(data['rows'])\n",
    "        distance=round(data[\"rows\"][0][\"elements\"][0][\"distance\"][\"value\"]/1000,2)\n",
    "        travel_time=round(data[\"rows\"][0][\"elements\"][0][\"duration\"][\"value\"]/60,2)\n",
    "        travel_time_in_traffic=round(data[\"rows\"][0][\"elements\"][0][\"duration_in_traffic\"][\"value\"]/60,2)\n",
    "        result=[distance,travel_time,travel_time_in_traffic, data[\"rows\"][0][\"elements\"][0][\"status\"]]\n",
    "        \n",
    "        return(result)\n",
    "    else:\n",
    "        return([0,0,0, data[\"rows\"][0][\"elements\"][0][\"status\"]])"
   ]
  },
  {
   "cell_type": "markdown",
   "metadata": {},
   "source": [
    "# __DISTANCE SPHERE-FORMULA VS GOOGLE__"
   ]
  },
  {
   "cell_type": "code",
   "execution_count": 6,
   "metadata": {},
   "outputs": [
    {
     "data": {
      "text/html": [
       "<div>\n",
       "<style scoped>\n",
       "    .dataframe tbody tr th:only-of-type {\n",
       "        vertical-align: middle;\n",
       "    }\n",
       "\n",
       "    .dataframe tbody tr th {\n",
       "        vertical-align: top;\n",
       "    }\n",
       "\n",
       "    .dataframe thead th {\n",
       "        text-align: right;\n",
       "    }\n",
       "</style>\n",
       "<table border=\"1\" class=\"dataframe\">\n",
       "  <thead>\n",
       "    <tr style=\"text-align: right;\">\n",
       "      <th></th>\n",
       "      <th>CITY_ORIGIN</th>\n",
       "      <th>CITY_DESTINATION</th>\n",
       "      <th>DISTANCE SPHERE</th>\n",
       "      <th>DISTANCE GMAPS</th>\n",
       "      <th>DELTA</th>\n",
       "    </tr>\n",
       "  </thead>\n",
       "  <tbody>\n",
       "    <tr>\n",
       "      <th>0</th>\n",
       "      <td>BEAUSOLEIL</td>\n",
       "      <td>BEAUFORT SUR GERVANNE</td>\n",
       "      <td>218.203813</td>\n",
       "      <td>394.40</td>\n",
       "      <td>176.196187</td>\n",
       "    </tr>\n",
       "    <tr>\n",
       "      <th>1</th>\n",
       "      <td>ST MARTIN D'AUXY</td>\n",
       "      <td>MURS ERIGNE</td>\n",
       "      <td>399.722110</td>\n",
       "      <td>549.79</td>\n",
       "      <td>150.067890</td>\n",
       "    </tr>\n",
       "    <tr>\n",
       "      <th>2</th>\n",
       "      <td>COLOMBES</td>\n",
       "      <td>BOHARS</td>\n",
       "      <td>503.267305</td>\n",
       "      <td>608.42</td>\n",
       "      <td>105.152695</td>\n",
       "    </tr>\n",
       "    <tr>\n",
       "      <th>3</th>\n",
       "      <td>LAMBRES LEZ DOUAI</td>\n",
       "      <td>FROISSY</td>\n",
       "      <td>108.095151</td>\n",
       "      <td>153.59</td>\n",
       "      <td>45.494849</td>\n",
       "    </tr>\n",
       "    <tr>\n",
       "      <th>4</th>\n",
       "      <td>PROVINS</td>\n",
       "      <td>ST BRICE SOUS FORET</td>\n",
       "      <td>82.647248</td>\n",
       "      <td>120.98</td>\n",
       "      <td>38.332752</td>\n",
       "    </tr>\n",
       "  </tbody>\n",
       "</table>\n",
       "</div>"
      ],
      "text/plain": [
       "         CITY_ORIGIN       CITY_DESTINATION  DISTANCE SPHERE  DISTANCE GMAPS  \\\n",
       "0         BEAUSOLEIL  BEAUFORT SUR GERVANNE       218.203813          394.40   \n",
       "1   ST MARTIN D'AUXY            MURS ERIGNE       399.722110          549.79   \n",
       "2           COLOMBES                 BOHARS       503.267305          608.42   \n",
       "3  LAMBRES LEZ DOUAI                FROISSY       108.095151          153.59   \n",
       "4            PROVINS    ST BRICE SOUS FORET        82.647248          120.98   \n",
       "\n",
       "        DELTA  \n",
       "0  176.196187  \n",
       "1  150.067890  \n",
       "2  105.152695  \n",
       "3   45.494849  \n",
       "4   38.332752  "
      ]
     },
     "execution_count": 6,
     "metadata": {},
     "output_type": "execute_result"
    }
   ],
   "source": [
    "from math import cos,sin,acos,asin,pi, sqrt\n",
    "\n",
    "def distances(long_ori,lat_ori,long_dest,lat_dest):\n",
    "    \n",
    "    #converion into radian\n",
    "    long_ori_rad,lat_ori_rad=long_ori*pi/180,lat_ori*pi/180\n",
    "    long_dest_rad,lat_dest_rad=long_dest*pi/180,lat_dest*pi/180\n",
    "\n",
    "    #sphere-formula \n",
    "    distance_sphere_1=6371.598*acos(sin(lat_ori_rad)*sin(lat_dest_rad)+cos(lat_ori_rad)*cos(lat_dest_rad)*cos(long_dest_rad-long_ori_rad))\n",
    "    distance_sphere_2=2*6371.598*asin(sqrt(sin((lat_dest_rad-lat_ori_rad)/2)**2 +cos(lat_dest_rad)*cos(lat_ori_rad)*cos(lat_dest_rad)*sin((long_dest_rad-long_ori_rad)/2)**2))\n",
    "    \n",
    "    #api Gmaps\n",
    "    distance_api_google=api_gmaps_request(long_ori,lat_ori,long_dest,lat_dest,API_KEY,departure_time,Traffic_model)[0]\n",
    "\n",
    "    return(distance_sphere_1,distance_sphere_2, distance_api_google)\n",
    "\n",
    "random_geocode_df[\"DISTANCE SPHERE\"]=0\n",
    "random_geocode_df[\"DISTANCE GMAPS\"]=0\n",
    "pos_dist_sph=random_geocode_df.columns.get_loc(\"DISTANCE SPHERE\")\n",
    "pos_dist_roads=random_geocode_df.columns.get_loc(\"DISTANCE GMAPS\")\n",
    "\n",
    "    \n",
    "for i in np.arange(5):\n",
    "    long_ori=random_geocode_df.iloc[i][\"LONGITUDE_ORIGINE\"]\n",
    "    lat_ori=random_geocode_df.iloc[i][\"LATITUDE_ORIGINE\"]\n",
    "\n",
    "    long_dest=random_geocode_df.iloc[i][\"LONGITUDE_DESTINATION\"]\n",
    "    lat_dest=random_geocode_df.iloc[i][\"LATITUDE_DESTINATION\"]\n",
    "    \n",
    "    random_geocode_df.iloc[i,pos_dist_sph]=distances(long_ori,lat_ori,long_dest,lat_dest)[0]\n",
    "    random_geocode_df.iloc[i,pos_dist_roads]=distances(long_ori,lat_ori,long_dest,lat_dest)[2]\n",
    "\n",
    "random_geocode_df[\"DELTA\"]=random_geocode_df[\"DISTANCE GMAPS\"]-random_geocode_df[\"DISTANCE SPHERE\"]\n",
    "\n",
    "random_geocode_df[[\"CITY_ORIGIN\",\"CITY_DESTINATION\",\"DISTANCE SPHERE\", \"DISTANCE GMAPS\", \"DELTA\"]].sort_values(\"DELTA\", ascending=False)\n"
   ]
  },
  {
   "cell_type": "markdown",
   "metadata": {},
   "source": [
    "# __GAP PLOT__"
   ]
  },
  {
   "cell_type": "code",
   "execution_count": 7,
   "metadata": {},
   "outputs": [
    {
     "data": {
      "image/png": "[encoded data removed]",
      "text/plain": [
       "<Figure size 504x360 with 1 Axes>"
      ]
     },
     "metadata": {
      "needs_background": "light"
     },
     "output_type": "display_data"
    }
   ],
   "source": [
    "#plot\n",
    "plt.figure(figsize=(7,5))\n",
    "plt.bar(random_geocode_df.index,random_geocode_df[\"DELTA\"])\n",
    "plt.xticks(random_geocode_df.index)\n",
    "plt.title(\"gap Distance sphere-formula vs API Google\\n by journey\", fontsize=15)\n",
    "plt.show()"
   ]
  }
 ],
 "metadata": {
  "kernelspec": {
   "display_name": "Python 3",
   "language": "python",
   "name": "python3"
  },
  "language_info": {
   "codemirror_mode": {
    "name": "ipython",
    "version": 3
   },
   "file_extension": ".py",
   "mimetype": "text/x-python",
   "name": "python",
   "nbconvert_exporter": "python",
   "pygments_lexer": "ipython3",
   "version": "3.7.3"
  }
 },
 "nbformat": 4,
 "nbformat_minor": 2
}
